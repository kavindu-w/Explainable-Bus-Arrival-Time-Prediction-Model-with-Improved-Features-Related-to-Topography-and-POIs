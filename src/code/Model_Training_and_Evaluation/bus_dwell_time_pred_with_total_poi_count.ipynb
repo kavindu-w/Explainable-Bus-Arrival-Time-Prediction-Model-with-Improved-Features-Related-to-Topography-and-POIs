{
 "cells": [
  {
   "cell_type": "markdown",
   "id": "c21b8bbf",
   "metadata": {
    "papermill": {
     "duration": 0.005783,
     "end_time": "2023-10-07T16:23:11.999351",
     "exception": false,
     "start_time": "2023-10-07T16:23:11.993568",
     "status": "completed"
    },
    "tags": []
   },
   "source": [
    "## Bus Arrival Time Prediction and Real Time Updating \n",
    "##### Group 27\n",
    "\n",
    "##### Dwell time Prediction Model\n"
   ]
  },
  {
   "cell_type": "code",
   "execution_count": 1,
   "id": "6c91e894",
   "metadata": {
    "execution": {
     "iopub.execute_input": "2023-10-07T16:23:12.012541Z",
     "iopub.status.busy": "2023-10-07T16:23:12.011896Z",
     "iopub.status.idle": "2023-10-07T16:23:12.350146Z",
     "shell.execute_reply": "2023-10-07T16:23:12.349028Z"
    },
    "papermill": {
     "duration": 0.347585,
     "end_time": "2023-10-07T16:23:12.352324",
     "exception": false,
     "start_time": "2023-10-07T16:23:12.004739",
     "status": "completed"
    },
    "tags": []
   },
   "outputs": [
    {
     "name": "stdout",
     "output_type": "stream",
     "text": [
      "/kaggle/input/dwell-time-data/bus_stop_times_poi_data_added_modified.csv\n"
     ]
    }
   ],
   "source": [
    "# This Python 3 environment comes with many helpful analytics libraries installed\n",
    "# It is defined by the kaggle/python Docker image: https://github.com/kaggle/docker-python\n",
    "# For example, here's several helpful packages to load\n",
    "\n",
    "import numpy as np # linear algebra\n",
    "import pandas as pd # data processing, CSV file I/O (e.g. pd.read_csv)\n",
    "\n",
    "# Input data files are available in the read-only \"../input/\" directory\n",
    "# For example, running this (by clicking run or pressing Shift+Enter) will list all files under the input directory\n",
    "\n",
    "import os\n",
    "for dirname, _, filenames in os.walk('/kaggle/input'):\n",
    "    for filename in filenames:\n",
    "        print(os.path.join(dirname, filename))\n",
    "\n",
    "# You can write up to 20GB to the current directory (/kaggle/working/) that gets preserved as output when you create a version using \"Save & Run All\" \n",
    "# You can also write temporary files to /kaggle/temp/, but they won't be saved outside of the current session"
   ]
  },
  {
   "cell_type": "code",
   "execution_count": 2,
   "id": "02d5d290",
   "metadata": {
    "execution": {
     "iopub.execute_input": "2023-10-07T16:23:12.365228Z",
     "iopub.status.busy": "2023-10-07T16:23:12.364387Z",
     "iopub.status.idle": "2023-10-07T16:23:19.064638Z",
     "shell.execute_reply": "2023-10-07T16:23:19.063269Z"
    },
    "papermill": {
     "duration": 6.709332,
     "end_time": "2023-10-07T16:23:19.067150",
     "exception": false,
     "start_time": "2023-10-07T16:23:12.357818",
     "status": "completed"
    },
    "tags": []
   },
   "outputs": [
    {
     "name": "stderr",
     "output_type": "stream",
     "text": [
      "Using `tqdm.autonotebook.tqdm` in notebook mode. Use `tqdm.tqdm` instead to force console mode (e.g. in jupyter console)\n"
     ]
    }
   ],
   "source": [
    "# import libraries\n",
    "\n",
    "import xgboost as xgb\n",
    "from sklearn import metrics\n",
    "from sklearn.model_selection import GridSearchCV, TimeSeriesSplit\n",
    "from sklearn.preprocessing import StandardScaler\n",
    "from sklearn.decomposition import PCA\n",
    "import matplotlib.pyplot as plt\n",
    "import seaborn as sns\n",
    "import shap\n",
    "%matplotlib inline\n"
   ]
  },
  {
   "cell_type": "code",
   "execution_count": 3,
   "id": "2fde9633",
   "metadata": {
    "execution": {
     "iopub.execute_input": "2023-10-07T16:23:19.080380Z",
     "iopub.status.busy": "2023-10-07T16:23:19.079834Z",
     "iopub.status.idle": "2023-10-07T16:23:19.815239Z",
     "shell.execute_reply": "2023-10-07T16:23:19.814317Z"
    },
    "papermill": {
     "duration": 0.744805,
     "end_time": "2023-10-07T16:23:19.817727",
     "exception": false,
     "start_time": "2023-10-07T16:23:19.072922",
     "status": "completed"
    },
    "tags": []
   },
   "outputs": [],
   "source": [
    "# read the dataset - running times\n",
    "dwell_time_data = pd.read_csv('/kaggle/input/dwell-time-data/bus_stop_times_poi_data_added_modified.csv')"
   ]
  },
  {
   "cell_type": "code",
   "execution_count": 4,
   "id": "b6301437",
   "metadata": {
    "execution": {
     "iopub.execute_input": "2023-10-07T16:23:19.830825Z",
     "iopub.status.busy": "2023-10-07T16:23:19.830472Z",
     "iopub.status.idle": "2023-10-07T16:23:19.860623Z",
     "shell.execute_reply": "2023-10-07T16:23:19.859833Z"
    },
    "papermill": {
     "duration": 0.039042,
     "end_time": "2023-10-07T16:23:19.862600",
     "exception": false,
     "start_time": "2023-10-07T16:23:19.823558",
     "status": "completed"
    },
    "tags": []
   },
   "outputs": [
    {
     "data": {
      "text/html": [
       "<div>\n",
       "<style scoped>\n",
       "    .dataframe tbody tr th:only-of-type {\n",
       "        vertical-align: middle;\n",
       "    }\n",
       "\n",
       "    .dataframe tbody tr th {\n",
       "        vertical-align: top;\n",
       "    }\n",
       "\n",
       "    .dataframe thead th {\n",
       "        text-align: right;\n",
       "    }\n",
       "</style>\n",
       "<table border=\"1\" class=\"dataframe\">\n",
       "  <thead>\n",
       "    <tr style=\"text-align: right;\">\n",
       "      <th></th>\n",
       "      <th>Unnamed: 0</th>\n",
       "      <th>trip_id</th>\n",
       "      <th>deviceid</th>\n",
       "      <th>direction</th>\n",
       "      <th>bus_stop</th>\n",
       "      <th>date</th>\n",
       "      <th>arrival_time</th>\n",
       "      <th>departure_time</th>\n",
       "      <th>dwell_time</th>\n",
       "      <th>dwell_time_in_seconds_old</th>\n",
       "      <th>...</th>\n",
       "      <th>dwell_time_in_seconds</th>\n",
       "      <th>place_of_worship</th>\n",
       "      <th>place_of_education</th>\n",
       "      <th>hospital</th>\n",
       "      <th>tourist_attractions</th>\n",
       "      <th>commercial_places</th>\n",
       "      <th>public_places</th>\n",
       "      <th>nearby_bus_stops</th>\n",
       "      <th>total_poi_count</th>\n",
       "      <th>average_poi_distance</th>\n",
       "    </tr>\n",
       "  </thead>\n",
       "  <tbody>\n",
       "    <tr>\n",
       "      <th>0</th>\n",
       "      <td>0</td>\n",
       "      <td>1</td>\n",
       "      <td>262</td>\n",
       "      <td>1</td>\n",
       "      <td>101</td>\n",
       "      <td>2021-10-01</td>\n",
       "      <td>06:40:58</td>\n",
       "      <td>06:42:12</td>\n",
       "      <td>0:01:14</td>\n",
       "      <td>74.0</td>\n",
       "      <td>...</td>\n",
       "      <td>74.0</td>\n",
       "      <td>3</td>\n",
       "      <td>1</td>\n",
       "      <td>0</td>\n",
       "      <td>23</td>\n",
       "      <td>1</td>\n",
       "      <td>7</td>\n",
       "      <td>1</td>\n",
       "      <td>13</td>\n",
       "      <td>0.002210</td>\n",
       "    </tr>\n",
       "    <tr>\n",
       "      <th>1</th>\n",
       "      <td>1</td>\n",
       "      <td>1</td>\n",
       "      <td>262</td>\n",
       "      <td>1</td>\n",
       "      <td>102</td>\n",
       "      <td>2021-10-01</td>\n",
       "      <td>06:45:42</td>\n",
       "      <td>06:45:42</td>\n",
       "      <td>0:00:00</td>\n",
       "      <td>0.0</td>\n",
       "      <td>...</td>\n",
       "      <td>0.0</td>\n",
       "      <td>0</td>\n",
       "      <td>8</td>\n",
       "      <td>0</td>\n",
       "      <td>2</td>\n",
       "      <td>0</td>\n",
       "      <td>1</td>\n",
       "      <td>0</td>\n",
       "      <td>6</td>\n",
       "      <td>0.002406</td>\n",
       "    </tr>\n",
       "    <tr>\n",
       "      <th>2</th>\n",
       "      <td>2</td>\n",
       "      <td>1</td>\n",
       "      <td>262</td>\n",
       "      <td>1</td>\n",
       "      <td>103</td>\n",
       "      <td>2021-10-01</td>\n",
       "      <td>06:53:58</td>\n",
       "      <td>06:54:04</td>\n",
       "      <td>0:00:06</td>\n",
       "      <td>6.0</td>\n",
       "      <td>...</td>\n",
       "      <td>6.0</td>\n",
       "      <td>4</td>\n",
       "      <td>0</td>\n",
       "      <td>0</td>\n",
       "      <td>2</td>\n",
       "      <td>0</td>\n",
       "      <td>1</td>\n",
       "      <td>0</td>\n",
       "      <td>5</td>\n",
       "      <td>0.002081</td>\n",
       "    </tr>\n",
       "    <tr>\n",
       "      <th>3</th>\n",
       "      <td>3</td>\n",
       "      <td>1</td>\n",
       "      <td>262</td>\n",
       "      <td>1</td>\n",
       "      <td>104</td>\n",
       "      <td>2021-10-01</td>\n",
       "      <td>06:57:19</td>\n",
       "      <td>06:57:19</td>\n",
       "      <td>0:00:00</td>\n",
       "      <td>0.0</td>\n",
       "      <td>...</td>\n",
       "      <td>0.0</td>\n",
       "      <td>2</td>\n",
       "      <td>0</td>\n",
       "      <td>0</td>\n",
       "      <td>1</td>\n",
       "      <td>0</td>\n",
       "      <td>1</td>\n",
       "      <td>0</td>\n",
       "      <td>3</td>\n",
       "      <td>0.001165</td>\n",
       "    </tr>\n",
       "    <tr>\n",
       "      <th>4</th>\n",
       "      <td>4</td>\n",
       "      <td>1</td>\n",
       "      <td>262</td>\n",
       "      <td>1</td>\n",
       "      <td>105</td>\n",
       "      <td>2021-10-01</td>\n",
       "      <td>06:58:56</td>\n",
       "      <td>07:02:27</td>\n",
       "      <td>0:03:31</td>\n",
       "      <td>211.0</td>\n",
       "      <td>...</td>\n",
       "      <td>211.0</td>\n",
       "      <td>2</td>\n",
       "      <td>1</td>\n",
       "      <td>0</td>\n",
       "      <td>0</td>\n",
       "      <td>0</td>\n",
       "      <td>2</td>\n",
       "      <td>0</td>\n",
       "      <td>3</td>\n",
       "      <td>0.001913</td>\n",
       "    </tr>\n",
       "  </tbody>\n",
       "</table>\n",
       "<p>5 rows × 43 columns</p>\n",
       "</div>"
      ],
      "text/plain": [
       "   Unnamed: 0  trip_id  deviceid  direction  bus_stop        date  \\\n",
       "0           0        1       262          1       101  2021-10-01   \n",
       "1           1        1       262          1       102  2021-10-01   \n",
       "2           2        1       262          1       103  2021-10-01   \n",
       "3           3        1       262          1       104  2021-10-01   \n",
       "4           4        1       262          1       105  2021-10-01   \n",
       "\n",
       "  arrival_time departure_time dwell_time  dwell_time_in_seconds_old  ...  \\\n",
       "0     06:40:58       06:42:12    0:01:14                       74.0  ...   \n",
       "1     06:45:42       06:45:42    0:00:00                        0.0  ...   \n",
       "2     06:53:58       06:54:04    0:00:06                        6.0  ...   \n",
       "3     06:57:19       06:57:19    0:00:00                        0.0  ...   \n",
       "4     06:58:56       07:02:27    0:03:31                      211.0  ...   \n",
       "\n",
       "   dwell_time_in_seconds  place_of_worship  place_of_education  hospital  \\\n",
       "0                   74.0                 3                   1         0   \n",
       "1                    0.0                 0                   8         0   \n",
       "2                    6.0                 4                   0         0   \n",
       "3                    0.0                 2                   0         0   \n",
       "4                  211.0                 2                   1         0   \n",
       "\n",
       "   tourist_attractions  commercial_places  public_places  nearby_bus_stops  \\\n",
       "0                   23                  1              7                 1   \n",
       "1                    2                  0              1                 0   \n",
       "2                    2                  0              1                 0   \n",
       "3                    1                  0              1                 0   \n",
       "4                    0                  0              2                 0   \n",
       "\n",
       "   total_poi_count  average_poi_distance  \n",
       "0               13              0.002210  \n",
       "1                6              0.002406  \n",
       "2                5              0.002081  \n",
       "3                3              0.001165  \n",
       "4                3              0.001913  \n",
       "\n",
       "[5 rows x 43 columns]"
      ]
     },
     "execution_count": 4,
     "metadata": {},
     "output_type": "execute_result"
    }
   ],
   "source": [
    "dwell_time_data.head()"
   ]
  },
  {
   "cell_type": "code",
   "execution_count": 5,
   "id": "719a4dcd",
   "metadata": {
    "execution": {
     "iopub.execute_input": "2023-10-07T16:23:19.876550Z",
     "iopub.status.busy": "2023-10-07T16:23:19.875907Z",
     "iopub.status.idle": "2023-10-07T16:23:19.910095Z",
     "shell.execute_reply": "2023-10-07T16:23:19.909289Z"
    },
    "papermill": {
     "duration": 0.043586,
     "end_time": "2023-10-07T16:23:19.912182",
     "exception": false,
     "start_time": "2023-10-07T16:23:19.868596",
     "status": "completed"
    },
    "tags": []
   },
   "outputs": [],
   "source": [
    "#filter non brief stops from the dataset\n",
    "dwell_time_data = dwell_time_data.drop(dwell_time_data[dwell_time_data['stop_type']=='br'].index)"
   ]
  },
  {
   "cell_type": "code",
   "execution_count": 6,
   "id": "2ac3f6ee",
   "metadata": {
    "execution": {
     "iopub.execute_input": "2023-10-07T16:23:19.925984Z",
     "iopub.status.busy": "2023-10-07T16:23:19.925372Z",
     "iopub.status.idle": "2023-10-07T16:23:19.930769Z",
     "shell.execute_reply": "2023-10-07T16:23:19.930115Z"
    },
    "papermill": {
     "duration": 0.014212,
     "end_time": "2023-10-07T16:23:19.932454",
     "exception": false,
     "start_time": "2023-10-07T16:23:19.918242",
     "status": "completed"
    },
    "tags": []
   },
   "outputs": [
    {
     "data": {
      "text/plain": [
       "Index(['Unnamed: 0', 'trip_id', 'deviceid', 'direction', 'bus_stop', 'date',\n",
       "       'arrival_time', 'departure_time', 'dwell_time',\n",
       "       'dwell_time_in_seconds_old', 'day_of_week', 'time_of_day',\n",
       "       'Sunday/holiday', 'saturday', 'weekday/end', 'week_no', 'dt(w-1)',\n",
       "       'dt(w-2)', 'dt(w-3)', 'dt(t-1)', 'dt(t-2)', 'dt(n-1)', 'dt(n-2)',\n",
       "       'dt(n-3)', 'hour_of_day', 'day', 'month', 'temp', 'precip', 'windspeed',\n",
       "       'conditions', 'rt(n-1)', 'stop_type', 'dwell_time_in_seconds',\n",
       "       'place_of_worship', 'place_of_education', 'hospital',\n",
       "       'tourist_attractions', 'commercial_places', 'public_places',\n",
       "       'nearby_bus_stops', 'total_poi_count', 'average_poi_distance'],\n",
       "      dtype='object')"
      ]
     },
     "execution_count": 6,
     "metadata": {},
     "output_type": "execute_result"
    }
   ],
   "source": [
    "dwell_time_data.columns"
   ]
  },
  {
   "cell_type": "code",
   "execution_count": 7,
   "id": "f0b3c257",
   "metadata": {
    "execution": {
     "iopub.execute_input": "2023-10-07T16:23:19.945889Z",
     "iopub.status.busy": "2023-10-07T16:23:19.945335Z",
     "iopub.status.idle": "2023-10-07T16:23:19.954538Z",
     "shell.execute_reply": "2023-10-07T16:23:19.953564Z"
    },
    "papermill": {
     "duration": 0.017953,
     "end_time": "2023-10-07T16:23:19.956343",
     "exception": false,
     "start_time": "2023-10-07T16:23:19.938390",
     "status": "completed"
    },
    "tags": []
   },
   "outputs": [],
   "source": [
    "features = ['deviceid','week_no','day_of_week','time_of_day','Sunday/holiday','weekday/end','bus_stop','precip','temp',\n",
    "            'dt(n-1)','dt(n-2)', 'dt(n-3)','dt(t-1)', 'dt(t-2)', 'dt(w-1)', 'dt(w-2)', 'dt(w-3)', 'rt(n-1)','total_poi_count','dwell_time_in_seconds']\n",
    "dwell_time_dataset = dwell_time_data[features]"
   ]
  },
  {
   "cell_type": "code",
   "execution_count": 8,
   "id": "e354f01f",
   "metadata": {
    "execution": {
     "iopub.execute_input": "2023-10-07T16:23:19.969803Z",
     "iopub.status.busy": "2023-10-07T16:23:19.969298Z",
     "iopub.status.idle": "2023-10-07T16:23:19.989669Z",
     "shell.execute_reply": "2023-10-07T16:23:19.988674Z"
    },
    "papermill": {
     "duration": 0.029415,
     "end_time": "2023-10-07T16:23:19.991582",
     "exception": false,
     "start_time": "2023-10-07T16:23:19.962167",
     "status": "completed"
    },
    "tags": []
   },
   "outputs": [
    {
     "data": {
      "text/html": [
       "<div>\n",
       "<style scoped>\n",
       "    .dataframe tbody tr th:only-of-type {\n",
       "        vertical-align: middle;\n",
       "    }\n",
       "\n",
       "    .dataframe tbody tr th {\n",
       "        vertical-align: top;\n",
       "    }\n",
       "\n",
       "    .dataframe thead th {\n",
       "        text-align: right;\n",
       "    }\n",
       "</style>\n",
       "<table border=\"1\" class=\"dataframe\">\n",
       "  <thead>\n",
       "    <tr style=\"text-align: right;\">\n",
       "      <th></th>\n",
       "      <th>deviceid</th>\n",
       "      <th>week_no</th>\n",
       "      <th>day_of_week</th>\n",
       "      <th>time_of_day</th>\n",
       "      <th>Sunday/holiday</th>\n",
       "      <th>weekday/end</th>\n",
       "      <th>bus_stop</th>\n",
       "      <th>precip</th>\n",
       "      <th>temp</th>\n",
       "      <th>dt(n-1)</th>\n",
       "      <th>dt(n-2)</th>\n",
       "      <th>dt(n-3)</th>\n",
       "      <th>dt(t-1)</th>\n",
       "      <th>dt(t-2)</th>\n",
       "      <th>dt(w-1)</th>\n",
       "      <th>dt(w-2)</th>\n",
       "      <th>dt(w-3)</th>\n",
       "      <th>rt(n-1)</th>\n",
       "      <th>total_poi_count</th>\n",
       "      <th>dwell_time_in_seconds</th>\n",
       "    </tr>\n",
       "  </thead>\n",
       "  <tbody>\n",
       "    <tr>\n",
       "      <th>0</th>\n",
       "      <td>262</td>\n",
       "      <td>1</td>\n",
       "      <td>4</td>\n",
       "      <td>6.50</td>\n",
       "      <td>0</td>\n",
       "      <td>1</td>\n",
       "      <td>101</td>\n",
       "      <td>0.0</td>\n",
       "      <td>20.0</td>\n",
       "      <td>92.0</td>\n",
       "      <td>92.0</td>\n",
       "      <td>92.0</td>\n",
       "      <td>92.0</td>\n",
       "      <td>92.0</td>\n",
       "      <td>92.0</td>\n",
       "      <td>92.0</td>\n",
       "      <td>92.0</td>\n",
       "      <td>69.0</td>\n",
       "      <td>13</td>\n",
       "      <td>74.0</td>\n",
       "    </tr>\n",
       "    <tr>\n",
       "      <th>1</th>\n",
       "      <td>262</td>\n",
       "      <td>1</td>\n",
       "      <td>4</td>\n",
       "      <td>6.75</td>\n",
       "      <td>0</td>\n",
       "      <td>1</td>\n",
       "      <td>102</td>\n",
       "      <td>0.0</td>\n",
       "      <td>20.0</td>\n",
       "      <td>74.0</td>\n",
       "      <td>45.0</td>\n",
       "      <td>45.0</td>\n",
       "      <td>45.0</td>\n",
       "      <td>45.0</td>\n",
       "      <td>45.0</td>\n",
       "      <td>45.0</td>\n",
       "      <td>45.0</td>\n",
       "      <td>210.0</td>\n",
       "      <td>6</td>\n",
       "      <td>0.0</td>\n",
       "    </tr>\n",
       "    <tr>\n",
       "      <th>2</th>\n",
       "      <td>262</td>\n",
       "      <td>1</td>\n",
       "      <td>4</td>\n",
       "      <td>6.75</td>\n",
       "      <td>0</td>\n",
       "      <td>1</td>\n",
       "      <td>103</td>\n",
       "      <td>0.0</td>\n",
       "      <td>20.0</td>\n",
       "      <td>0.0</td>\n",
       "      <td>74.0</td>\n",
       "      <td>28.0</td>\n",
       "      <td>28.0</td>\n",
       "      <td>28.0</td>\n",
       "      <td>28.0</td>\n",
       "      <td>28.0</td>\n",
       "      <td>28.0</td>\n",
       "      <td>496.0</td>\n",
       "      <td>5</td>\n",
       "      <td>6.0</td>\n",
       "    </tr>\n",
       "    <tr>\n",
       "      <th>4</th>\n",
       "      <td>262</td>\n",
       "      <td>1</td>\n",
       "      <td>4</td>\n",
       "      <td>6.75</td>\n",
       "      <td>0</td>\n",
       "      <td>1</td>\n",
       "      <td>105</td>\n",
       "      <td>0.0</td>\n",
       "      <td>20.0</td>\n",
       "      <td>0.0</td>\n",
       "      <td>6.0</td>\n",
       "      <td>0.0</td>\n",
       "      <td>230.0</td>\n",
       "      <td>230.0</td>\n",
       "      <td>230.0</td>\n",
       "      <td>230.0</td>\n",
       "      <td>230.0</td>\n",
       "      <td>97.0</td>\n",
       "      <td>3</td>\n",
       "      <td>211.0</td>\n",
       "    </tr>\n",
       "    <tr>\n",
       "      <th>5</th>\n",
       "      <td>262</td>\n",
       "      <td>1</td>\n",
       "      <td>4</td>\n",
       "      <td>7.00</td>\n",
       "      <td>0</td>\n",
       "      <td>1</td>\n",
       "      <td>106</td>\n",
       "      <td>0.0</td>\n",
       "      <td>20.7</td>\n",
       "      <td>211.0</td>\n",
       "      <td>0.0</td>\n",
       "      <td>6.0</td>\n",
       "      <td>24.0</td>\n",
       "      <td>24.0</td>\n",
       "      <td>24.0</td>\n",
       "      <td>24.0</td>\n",
       "      <td>24.0</td>\n",
       "      <td>210.0</td>\n",
       "      <td>6</td>\n",
       "      <td>35.0</td>\n",
       "    </tr>\n",
       "  </tbody>\n",
       "</table>\n",
       "</div>"
      ],
      "text/plain": [
       "   deviceid  week_no  day_of_week  time_of_day  Sunday/holiday  weekday/end  \\\n",
       "0       262        1            4         6.50               0            1   \n",
       "1       262        1            4         6.75               0            1   \n",
       "2       262        1            4         6.75               0            1   \n",
       "4       262        1            4         6.75               0            1   \n",
       "5       262        1            4         7.00               0            1   \n",
       "\n",
       "   bus_stop  precip  temp  dt(n-1)  dt(n-2)  dt(n-3)  dt(t-1)  dt(t-2)  \\\n",
       "0       101     0.0  20.0     92.0     92.0     92.0     92.0     92.0   \n",
       "1       102     0.0  20.0     74.0     45.0     45.0     45.0     45.0   \n",
       "2       103     0.0  20.0      0.0     74.0     28.0     28.0     28.0   \n",
       "4       105     0.0  20.0      0.0      6.0      0.0    230.0    230.0   \n",
       "5       106     0.0  20.7    211.0      0.0      6.0     24.0     24.0   \n",
       "\n",
       "   dt(w-1)  dt(w-2)  dt(w-3)  rt(n-1)  total_poi_count  dwell_time_in_seconds  \n",
       "0     92.0     92.0     92.0     69.0               13                   74.0  \n",
       "1     45.0     45.0     45.0    210.0                6                    0.0  \n",
       "2     28.0     28.0     28.0    496.0                5                    6.0  \n",
       "4    230.0    230.0    230.0     97.0                3                  211.0  \n",
       "5     24.0     24.0     24.0    210.0                6                   35.0  "
      ]
     },
     "execution_count": 8,
     "metadata": {},
     "output_type": "execute_result"
    }
   ],
   "source": [
    "dwell_time_dataset.head()"
   ]
  },
  {
   "cell_type": "code",
   "execution_count": 9,
   "id": "cbedbd37",
   "metadata": {
    "execution": {
     "iopub.execute_input": "2023-10-07T16:23:20.005256Z",
     "iopub.status.busy": "2023-10-07T16:23:20.004878Z",
     "iopub.status.idle": "2023-10-07T16:23:20.010320Z",
     "shell.execute_reply": "2023-10-07T16:23:20.009267Z"
    },
    "papermill": {
     "duration": 0.014409,
     "end_time": "2023-10-07T16:23:20.012230",
     "exception": false,
     "start_time": "2023-10-07T16:23:19.997821",
     "status": "completed"
    },
    "tags": []
   },
   "outputs": [
    {
     "name": "stdout",
     "output_type": "stream",
     "text": [
      "No of data points in the dataset : 52748 \n",
      "No of Features\t: 19\n"
     ]
    }
   ],
   "source": [
    "print (\"No of data points in the dataset : %d \\nNo of Features\\t: %d\"%(dwell_time_dataset.shape[0],(dwell_time_dataset.shape[1]-1)))"
   ]
  },
  {
   "cell_type": "code",
   "execution_count": 10,
   "id": "a994e059",
   "metadata": {
    "execution": {
     "iopub.execute_input": "2023-10-07T16:23:20.026273Z",
     "iopub.status.busy": "2023-10-07T16:23:20.025563Z",
     "iopub.status.idle": "2023-10-07T16:23:20.041847Z",
     "shell.execute_reply": "2023-10-07T16:23:20.040997Z"
    },
    "papermill": {
     "duration": 0.025181,
     "end_time": "2023-10-07T16:23:20.043583",
     "exception": false,
     "start_time": "2023-10-07T16:23:20.018402",
     "status": "completed"
    },
    "tags": []
   },
   "outputs": [
    {
     "name": "stdout",
     "output_type": "stream",
     "text": [
      "No of rows with missing values: 0\n"
     ]
    }
   ],
   "source": [
    "#inspecting missing values\n",
    "print (\"No of rows with missing values: %d\"%(dwell_time_dataset.isna().sum(axis =1)>0).sum())"
   ]
  },
  {
   "cell_type": "code",
   "execution_count": 11,
   "id": "66514f1a",
   "metadata": {
    "execution": {
     "iopub.execute_input": "2023-10-07T16:23:20.057851Z",
     "iopub.status.busy": "2023-10-07T16:23:20.057488Z",
     "iopub.status.idle": "2023-10-07T16:23:20.066412Z",
     "shell.execute_reply": "2023-10-07T16:23:20.065484Z"
    },
    "papermill": {
     "duration": 0.018311,
     "end_time": "2023-10-07T16:23:20.068288",
     "exception": false,
     "start_time": "2023-10-07T16:23:20.049977",
     "status": "completed"
    },
    "tags": []
   },
   "outputs": [
    {
     "name": "stdout",
     "output_type": "stream",
     "text": [
      "No of data points in the dataset after removing the rows with missing values : 52748 \n",
      "\n"
     ]
    }
   ],
   "source": [
    "#Drop all the rows with missing values\n",
    "dwell_time_dataset = dwell_time_dataset.dropna()\n",
    "print (\"No of data points in the dataset after removing the rows with missing values : %d \\n\"%(dwell_time_dataset.shape[0]))"
   ]
  },
  {
   "cell_type": "code",
   "execution_count": 12,
   "id": "0a5a410c",
   "metadata": {
    "execution": {
     "iopub.execute_input": "2023-10-07T16:23:20.082753Z",
     "iopub.status.busy": "2023-10-07T16:23:20.082244Z",
     "iopub.status.idle": "2023-10-07T16:23:20.090553Z",
     "shell.execute_reply": "2023-10-07T16:23:20.089849Z"
    },
    "papermill": {
     "duration": 0.017637,
     "end_time": "2023-10-07T16:23:20.092301",
     "exception": false,
     "start_time": "2023-10-07T16:23:20.074664",
     "status": "completed"
    },
    "tags": []
   },
   "outputs": [],
   "source": [
    "# Splitting the dataset for training and testing\n",
    "# In this case we are considering first 36 weeks for training and remaining weeks for testing\n",
    "train_dwell_time = dwell_time_dataset[dwell_time_dataset[\"week_no\"]<=36]\n",
    "test_dwell_time = dwell_time_dataset[dwell_time_dataset[\"week_no\"]>36]\n",
    "test_dwell_time.reset_index(drop=True,inplace=True)"
   ]
  },
  {
   "cell_type": "code",
   "execution_count": 13,
   "id": "fc134a3d",
   "metadata": {
    "execution": {
     "iopub.execute_input": "2023-10-07T16:23:20.106858Z",
     "iopub.status.busy": "2023-10-07T16:23:20.106340Z",
     "iopub.status.idle": "2023-10-07T16:23:20.110840Z",
     "shell.execute_reply": "2023-10-07T16:23:20.109855Z"
    },
    "papermill": {
     "duration": 0.013948,
     "end_time": "2023-10-07T16:23:20.112611",
     "exception": false,
     "start_time": "2023-10-07T16:23:20.098663",
     "status": "completed"
    },
    "tags": []
   },
   "outputs": [
    {
     "name": "stdout",
     "output_type": "stream",
     "text": [
      "No of data points in the training set : 44080 \n",
      "No of data points in the test set : 8668\n"
     ]
    }
   ],
   "source": [
    "print (\"No of data points in the training set : %d \\nNo of data points in the test set : %d\"%(train_dwell_time.shape[0],test_dwell_time.shape[0]))"
   ]
  },
  {
   "cell_type": "code",
   "execution_count": 14,
   "id": "f68e7e6f",
   "metadata": {
    "execution": {
     "iopub.execute_input": "2023-10-07T16:23:20.127514Z",
     "iopub.status.busy": "2023-10-07T16:23:20.126996Z",
     "iopub.status.idle": "2023-10-07T16:23:20.135879Z",
     "shell.execute_reply": "2023-10-07T16:23:20.135228Z"
    },
    "papermill": {
     "duration": 0.018679,
     "end_time": "2023-10-07T16:23:20.137572",
     "exception": false,
     "start_time": "2023-10-07T16:23:20.118893",
     "status": "completed"
    },
    "tags": []
   },
   "outputs": [],
   "source": [
    "# remove week no\n",
    "train_dwell_time = train_dwell_time.drop(\"week_no\",axis = 1)\n",
    "test_dwell_time = test_dwell_time.drop(\"week_no\",axis = 1)\n"
   ]
  },
  {
   "cell_type": "code",
   "execution_count": 15,
   "id": "a3c8bf7f",
   "metadata": {
    "execution": {
     "iopub.execute_input": "2023-10-07T16:23:20.151995Z",
     "iopub.status.busy": "2023-10-07T16:23:20.151626Z",
     "iopub.status.idle": "2023-10-07T16:23:20.156795Z",
     "shell.execute_reply": "2023-10-07T16:23:20.155927Z"
    },
    "papermill": {
     "duration": 0.014454,
     "end_time": "2023-10-07T16:23:20.158504",
     "exception": false,
     "start_time": "2023-10-07T16:23:20.144050",
     "status": "completed"
    },
    "tags": []
   },
   "outputs": [],
   "source": [
    "# Get X and Y of train and test\n",
    "y_train_dwell_time = train_dwell_time.pop('dwell_time_in_seconds')\n",
    "y_test_dwell_time = test_dwell_time.pop('dwell_time_in_seconds')"
   ]
  },
  {
   "cell_type": "code",
   "execution_count": 16,
   "id": "e3d22144",
   "metadata": {
    "execution": {
     "iopub.execute_input": "2023-10-07T16:23:20.173196Z",
     "iopub.status.busy": "2023-10-07T16:23:20.172618Z",
     "iopub.status.idle": "2023-10-07T16:23:21.248095Z",
     "shell.execute_reply": "2023-10-07T16:23:21.247003Z"
    },
    "papermill": {
     "duration": 1.085683,
     "end_time": "2023-10-07T16:23:21.250690",
     "exception": false,
     "start_time": "2023-10-07T16:23:20.165007",
     "status": "completed"
    },
    "tags": []
   },
   "outputs": [
    {
     "data": {
      "text/plain": [
       "<Axes: >"
      ]
     },
     "execution_count": 16,
     "metadata": {},
     "output_type": "execute_result"
    },
    {
     "data": {
      "image/png": "[encoded data removed]",
      "text/plain": [
       "<Figure size 3000x3000 with 2 Axes>"
      ]
     },
     "metadata": {},
     "output_type": "display_data"
    }
   ],
   "source": [
    "plt.figure(figsize=[30,30])\n",
    "correlation  = train_dwell_time.corr()\n",
    "sns.heatmap(data=correlation, cmap = 'coolwarm')"
   ]
  },
  {
   "cell_type": "code",
   "execution_count": 17,
   "id": "0cbd73e7",
   "metadata": {
    "execution": {
     "iopub.execute_input": "2023-10-07T16:23:21.268847Z",
     "iopub.status.busy": "2023-10-07T16:23:21.267472Z",
     "iopub.status.idle": "2023-10-07T16:23:21.288899Z",
     "shell.execute_reply": "2023-10-07T16:23:21.288190Z"
    },
    "papermill": {
     "duration": 0.032507,
     "end_time": "2023-10-07T16:23:21.291095",
     "exception": false,
     "start_time": "2023-10-07T16:23:21.258588",
     "status": "completed"
    },
    "tags": []
   },
   "outputs": [],
   "source": [
    "#Scaling\n",
    "scaler = StandardScaler()\n",
    "scaler.fit(train_dwell_time)\n",
    "X_train_scaled = scaler.transform(train_dwell_time)\n",
    "X_test_scaled = scaler.transform(test_dwell_time)"
   ]
  },
  {
   "cell_type": "code",
   "execution_count": 18,
   "id": "b8458083",
   "metadata": {
    "execution": {
     "iopub.execute_input": "2023-10-07T16:23:21.308774Z",
     "iopub.status.busy": "2023-10-07T16:23:21.308441Z",
     "iopub.status.idle": "2023-10-07T16:23:21.314641Z",
     "shell.execute_reply": "2023-10-07T16:23:21.313970Z"
    },
    "papermill": {
     "duration": 0.017338,
     "end_time": "2023-10-07T16:23:21.316553",
     "exception": false,
     "start_time": "2023-10-07T16:23:21.299215",
     "status": "completed"
    },
    "tags": []
   },
   "outputs": [],
   "source": [
    "#Hyperparmeter Grid\n",
    "parameters = {\n",
    "    \"max_depth\": [3,4, 6,5],\n",
    "    \"learning_rate\": [0.01, 0.05, 0.1,0.3],\n",
    "    \"n_estimators\": [100,150, 200, 300],\n",
    "    'reg_alpha':[0.001, 0.005, 0.01, 0.05],\n",
    "    \"colsample_bytree\": [0.6,0.8,0.9],\n",
    "    \"random_state\":[123],\n",
    "    \"eval_metric\":['mape']\n",
    "    \n",
    "}"
   ]
  },
  {
   "cell_type": "code",
   "execution_count": 19,
   "id": "09c7b555",
   "metadata": {
    "execution": {
     "iopub.execute_input": "2023-10-07T16:23:21.334324Z",
     "iopub.status.busy": "2023-10-07T16:23:21.333260Z",
     "iopub.status.idle": "2023-10-07T16:43:26.115017Z",
     "shell.execute_reply": "2023-10-07T16:43:26.113892Z"
    },
    "papermill": {
     "duration": 1204.801054,
     "end_time": "2023-10-07T16:43:26.125362",
     "exception": false,
     "start_time": "2023-10-07T16:23:21.324308",
     "status": "completed"
    },
    "tags": []
   },
   "outputs": [
    {
     "data": {
      "text/html": [
       "<style>#sk-container-id-1 {color: black;background-color: white;}#sk-container-id-1 pre{padding: 0;}#sk-container-id-1 div.sk-toggleable {background-color: white;}#sk-container-id-1 label.sk-toggleable__label {cursor: pointer;display: block;width: 100%;margin-bottom: 0;padding: 0.3em;box-sizing: border-box;text-align: center;}#sk-container-id-1 label.sk-toggleable__label-arrow:before {content: \"▸\";float: left;margin-right: 0.25em;color: #696969;}#sk-container-id-1 label.sk-toggleable__label-arrow:hover:before {color: black;}#sk-container-id-1 div.sk-estimator:hover label.sk-toggleable__label-arrow:before {color: black;}#sk-container-id-1 div.sk-toggleable__content {max-height: 0;max-width: 0;overflow: hidden;text-align: left;background-color: #f0f8ff;}#sk-container-id-1 div.sk-toggleable__content pre {margin: 0.2em;color: black;border-radius: 0.25em;background-color: #f0f8ff;}#sk-container-id-1 input.sk-toggleable__control:checked~div.sk-toggleable__content {max-height: 200px;max-width: 100%;overflow: auto;}#sk-container-id-1 input.sk-toggleable__control:checked~label.sk-toggleable__label-arrow:before {content: \"▾\";}#sk-container-id-1 div.sk-estimator input.sk-toggleable__control:checked~label.sk-toggleable__label {background-color: #d4ebff;}#sk-container-id-1 div.sk-label input.sk-toggleable__control:checked~label.sk-toggleable__label {background-color: #d4ebff;}#sk-container-id-1 input.sk-hidden--visually {border: 0;clip: rect(1px 1px 1px 1px);clip: rect(1px, 1px, 1px, 1px);height: 1px;margin: -1px;overflow: hidden;padding: 0;position: absolute;width: 1px;}#sk-container-id-1 div.sk-estimator {font-family: monospace;background-color: #f0f8ff;border: 1px dotted black;border-radius: 0.25em;box-sizing: border-box;margin-bottom: 0.5em;}#sk-container-id-1 div.sk-estimator:hover {background-color: #d4ebff;}#sk-container-id-1 div.sk-parallel-item::after {content: \"\";width: 100%;border-bottom: 1px solid gray;flex-grow: 1;}#sk-container-id-1 div.sk-label:hover label.sk-toggleable__label {background-color: #d4ebff;}#sk-container-id-1 div.sk-serial::before {content: \"\";position: absolute;border-left: 1px solid gray;box-sizing: border-box;top: 0;bottom: 0;left: 50%;z-index: 0;}#sk-container-id-1 div.sk-serial {display: flex;flex-direction: column;align-items: center;background-color: white;padding-right: 0.2em;padding-left: 0.2em;position: relative;}#sk-container-id-1 div.sk-item {position: relative;z-index: 1;}#sk-container-id-1 div.sk-parallel {display: flex;align-items: stretch;justify-content: center;background-color: white;position: relative;}#sk-container-id-1 div.sk-item::before, #sk-container-id-1 div.sk-parallel-item::before {content: \"\";position: absolute;border-left: 1px solid gray;box-sizing: border-box;top: 0;bottom: 0;left: 50%;z-index: -1;}#sk-container-id-1 div.sk-parallel-item {display: flex;flex-direction: column;z-index: 1;position: relative;background-color: white;}#sk-container-id-1 div.sk-parallel-item:first-child::after {align-self: flex-end;width: 50%;}#sk-container-id-1 div.sk-parallel-item:last-child::after {align-self: flex-start;width: 50%;}#sk-container-id-1 div.sk-parallel-item:only-child::after {width: 0;}#sk-container-id-1 div.sk-dashed-wrapped {border: 1px dashed gray;margin: 0 0.4em 0.5em 0.4em;box-sizing: border-box;padding-bottom: 0.4em;background-color: white;}#sk-container-id-1 div.sk-label label {font-family: monospace;font-weight: bold;display: inline-block;line-height: 1.2em;}#sk-container-id-1 div.sk-label-container {text-align: center;}#sk-container-id-1 div.sk-container {/* jupyter's `normalize.less` sets `[hidden] { display: none; }` but bootstrap.min.css set `[hidden] { display: none !important; }` so we also need the `!important` here to be able to override the default hidden behavior on the sphinx rendered scikit-learn.org. See: https://github.com/scikit-learn/scikit-learn/issues/21755 */display: inline-block !important;position: relative;}#sk-container-id-1 div.sk-text-repr-fallback {display: none;}</style><div id=\"sk-container-id-1\" class=\"sk-top-container\"><div class=\"sk-text-repr-fallback\"><pre>GridSearchCV(cv=TimeSeriesSplit(gap=0, max_train_size=2000, n_splits=6, test_size=100),\n",
       "             estimator=XGBRegressor(base_score=None, booster=None,\n",
       "                                    callbacks=None, colsample_bylevel=None,\n",
       "                                    colsample_bynode=None,\n",
       "                                    colsample_bytree=None,\n",
       "                                    early_stopping_rounds=None,\n",
       "                                    enable_categorical=False, eval_metric=None,\n",
       "                                    feature_types=None, gamma=None, gpu_id=None,\n",
       "                                    grow_policy=None, impo...\n",
       "                                    min_child_weight=None, missing=nan,\n",
       "                                    monotone_constraints=None, n_estimators=100,\n",
       "                                    n_jobs=None, num_parallel_tree=None,\n",
       "                                    predictor=None, random_state=None, ...),\n",
       "             param_grid={&#x27;colsample_bytree&#x27;: [0.6, 0.8, 0.9],\n",
       "                         &#x27;eval_metric&#x27;: [&#x27;mape&#x27;],\n",
       "                         &#x27;learning_rate&#x27;: [0.01, 0.05, 0.1, 0.3],\n",
       "                         &#x27;max_depth&#x27;: [3, 4, 6, 5],\n",
       "                         &#x27;n_estimators&#x27;: [100, 150, 200, 300],\n",
       "                         &#x27;random_state&#x27;: [123],\n",
       "                         &#x27;reg_alpha&#x27;: [0.001, 0.005, 0.01, 0.05]})</pre><b>In a Jupyter environment, please rerun this cell to show the HTML representation or trust the notebook. <br />On GitHub, the HTML representation is unable to render, please try loading this page with nbviewer.org.</b></div><div class=\"sk-container\" hidden><div class=\"sk-item sk-dashed-wrapped\"><div class=\"sk-label-container\"><div class=\"sk-label sk-toggleable\"><input class=\"sk-toggleable__control sk-hidden--visually\" id=\"sk-estimator-id-1\" type=\"checkbox\" ><label for=\"sk-estimator-id-1\" class=\"sk-toggleable__label sk-toggleable__label-arrow\">GridSearchCV</label><div class=\"sk-toggleable__content\"><pre>GridSearchCV(cv=TimeSeriesSplit(gap=0, max_train_size=2000, n_splits=6, test_size=100),\n",
       "             estimator=XGBRegressor(base_score=None, booster=None,\n",
       "                                    callbacks=None, colsample_bylevel=None,\n",
       "                                    colsample_bynode=None,\n",
       "                                    colsample_bytree=None,\n",
       "                                    early_stopping_rounds=None,\n",
       "                                    enable_categorical=False, eval_metric=None,\n",
       "                                    feature_types=None, gamma=None, gpu_id=None,\n",
       "                                    grow_policy=None, impo...\n",
       "                                    min_child_weight=None, missing=nan,\n",
       "                                    monotone_constraints=None, n_estimators=100,\n",
       "                                    n_jobs=None, num_parallel_tree=None,\n",
       "                                    predictor=None, random_state=None, ...),\n",
       "             param_grid={&#x27;colsample_bytree&#x27;: [0.6, 0.8, 0.9],\n",
       "                         &#x27;eval_metric&#x27;: [&#x27;mape&#x27;],\n",
       "                         &#x27;learning_rate&#x27;: [0.01, 0.05, 0.1, 0.3],\n",
       "                         &#x27;max_depth&#x27;: [3, 4, 6, 5],\n",
       "                         &#x27;n_estimators&#x27;: [100, 150, 200, 300],\n",
       "                         &#x27;random_state&#x27;: [123],\n",
       "                         &#x27;reg_alpha&#x27;: [0.001, 0.005, 0.01, 0.05]})</pre></div></div></div><div class=\"sk-parallel\"><div class=\"sk-parallel-item\"><div class=\"sk-item\"><div class=\"sk-label-container\"><div class=\"sk-label sk-toggleable\"><input class=\"sk-toggleable__control sk-hidden--visually\" id=\"sk-estimator-id-2\" type=\"checkbox\" ><label for=\"sk-estimator-id-2\" class=\"sk-toggleable__label sk-toggleable__label-arrow\">estimator: XGBRegressor</label><div class=\"sk-toggleable__content\"><pre>XGBRegressor(base_score=None, booster=None, callbacks=None,\n",
       "             colsample_bylevel=None, colsample_bynode=None,\n",
       "             colsample_bytree=None, early_stopping_rounds=None,\n",
       "             enable_categorical=False, eval_metric=None, feature_types=None,\n",
       "             gamma=None, gpu_id=None, grow_policy=None, importance_type=None,\n",
       "             interaction_constraints=None, learning_rate=None, max_bin=None,\n",
       "             max_cat_threshold=None, max_cat_to_onehot=None,\n",
       "             max_delta_step=None, max_depth=None, max_leaves=None,\n",
       "             min_child_weight=None, missing=nan, monotone_constraints=None,\n",
       "             n_estimators=100, n_jobs=None, num_parallel_tree=None,\n",
       "             predictor=None, random_state=None, ...)</pre></div></div></div><div class=\"sk-serial\"><div class=\"sk-item\"><div class=\"sk-estimator sk-toggleable\"><input class=\"sk-toggleable__control sk-hidden--visually\" id=\"sk-estimator-id-3\" type=\"checkbox\" ><label for=\"sk-estimator-id-3\" class=\"sk-toggleable__label sk-toggleable__label-arrow\">XGBRegressor</label><div class=\"sk-toggleable__content\"><pre>XGBRegressor(base_score=None, booster=None, callbacks=None,\n",
       "             colsample_bylevel=None, colsample_bynode=None,\n",
       "             colsample_bytree=None, early_stopping_rounds=None,\n",
       "             enable_categorical=False, eval_metric=None, feature_types=None,\n",
       "             gamma=None, gpu_id=None, grow_policy=None, importance_type=None,\n",
       "             interaction_constraints=None, learning_rate=None, max_bin=None,\n",
       "             max_cat_threshold=None, max_cat_to_onehot=None,\n",
       "             max_delta_step=None, max_depth=None, max_leaves=None,\n",
       "             min_child_weight=None, missing=nan, monotone_constraints=None,\n",
       "             n_estimators=100, n_jobs=None, num_parallel_tree=None,\n",
       "             predictor=None, random_state=None, ...)</pre></div></div></div></div></div></div></div></div></div></div>"
      ],
      "text/plain": [
       "GridSearchCV(cv=TimeSeriesSplit(gap=0, max_train_size=2000, n_splits=6, test_size=100),\n",
       "             estimator=XGBRegressor(base_score=None, booster=None,\n",
       "                                    callbacks=None, colsample_bylevel=None,\n",
       "                                    colsample_bynode=None,\n",
       "                                    colsample_bytree=None,\n",
       "                                    early_stopping_rounds=None,\n",
       "                                    enable_categorical=False, eval_metric=None,\n",
       "                                    feature_types=None, gamma=None, gpu_id=None,\n",
       "                                    grow_policy=None, impo...\n",
       "                                    min_child_weight=None, missing=nan,\n",
       "                                    monotone_constraints=None, n_estimators=100,\n",
       "                                    n_jobs=None, num_parallel_tree=None,\n",
       "                                    predictor=None, random_state=None, ...),\n",
       "             param_grid={'colsample_bytree': [0.6, 0.8, 0.9],\n",
       "                         'eval_metric': ['mape'],\n",
       "                         'learning_rate': [0.01, 0.05, 0.1, 0.3],\n",
       "                         'max_depth': [3, 4, 6, 5],\n",
       "                         'n_estimators': [100, 150, 200, 300],\n",
       "                         'random_state': [123],\n",
       "                         'reg_alpha': [0.001, 0.005, 0.01, 0.05]})"
      ]
     },
     "execution_count": 19,
     "metadata": {},
     "output_type": "execute_result"
    }
   ],
   "source": [
    "cv_split = TimeSeriesSplit(n_splits=6,max_train_size = 2000, test_size=100)\n",
    "model = xgb.XGBRegressor()\n",
    "grid_search_cv = GridSearchCV(estimator=model, cv=cv_split, param_grid=parameters)\n",
    "grid_search_cv.fit(X_train_scaled, y_train_dwell_time)"
   ]
  },
  {
   "cell_type": "code",
   "execution_count": 20,
   "id": "9035c66d",
   "metadata": {
    "execution": {
     "iopub.execute_input": "2023-10-07T16:43:26.143931Z",
     "iopub.status.busy": "2023-10-07T16:43:26.143243Z",
     "iopub.status.idle": "2023-10-07T16:43:28.243402Z",
     "shell.execute_reply": "2023-10-07T16:43:28.242420Z"
    },
    "papermill": {
     "duration": 2.111817,
     "end_time": "2023-10-07T16:43:28.245501",
     "exception": false,
     "start_time": "2023-10-07T16:43:26.133684",
     "status": "completed"
    },
    "tags": []
   },
   "outputs": [
    {
     "data": {
      "text/html": [
       "<style>#sk-container-id-2 {color: black;background-color: white;}#sk-container-id-2 pre{padding: 0;}#sk-container-id-2 div.sk-toggleable {background-color: white;}#sk-container-id-2 label.sk-toggleable__label {cursor: pointer;display: block;width: 100%;margin-bottom: 0;padding: 0.3em;box-sizing: border-box;text-align: center;}#sk-container-id-2 label.sk-toggleable__label-arrow:before {content: \"▸\";float: left;margin-right: 0.25em;color: #696969;}#sk-container-id-2 label.sk-toggleable__label-arrow:hover:before {color: black;}#sk-container-id-2 div.sk-estimator:hover label.sk-toggleable__label-arrow:before {color: black;}#sk-container-id-2 div.sk-toggleable__content {max-height: 0;max-width: 0;overflow: hidden;text-align: left;background-color: #f0f8ff;}#sk-container-id-2 div.sk-toggleable__content pre {margin: 0.2em;color: black;border-radius: 0.25em;background-color: #f0f8ff;}#sk-container-id-2 input.sk-toggleable__control:checked~div.sk-toggleable__content {max-height: 200px;max-width: 100%;overflow: auto;}#sk-container-id-2 input.sk-toggleable__control:checked~label.sk-toggleable__label-arrow:before {content: \"▾\";}#sk-container-id-2 div.sk-estimator input.sk-toggleable__control:checked~label.sk-toggleable__label {background-color: #d4ebff;}#sk-container-id-2 div.sk-label input.sk-toggleable__control:checked~label.sk-toggleable__label {background-color: #d4ebff;}#sk-container-id-2 input.sk-hidden--visually {border: 0;clip: rect(1px 1px 1px 1px);clip: rect(1px, 1px, 1px, 1px);height: 1px;margin: -1px;overflow: hidden;padding: 0;position: absolute;width: 1px;}#sk-container-id-2 div.sk-estimator {font-family: monospace;background-color: #f0f8ff;border: 1px dotted black;border-radius: 0.25em;box-sizing: border-box;margin-bottom: 0.5em;}#sk-container-id-2 div.sk-estimator:hover {background-color: #d4ebff;}#sk-container-id-2 div.sk-parallel-item::after {content: \"\";width: 100%;border-bottom: 1px solid gray;flex-grow: 1;}#sk-container-id-2 div.sk-label:hover label.sk-toggleable__label {background-color: #d4ebff;}#sk-container-id-2 div.sk-serial::before {content: \"\";position: absolute;border-left: 1px solid gray;box-sizing: border-box;top: 0;bottom: 0;left: 50%;z-index: 0;}#sk-container-id-2 div.sk-serial {display: flex;flex-direction: column;align-items: center;background-color: white;padding-right: 0.2em;padding-left: 0.2em;position: relative;}#sk-container-id-2 div.sk-item {position: relative;z-index: 1;}#sk-container-id-2 div.sk-parallel {display: flex;align-items: stretch;justify-content: center;background-color: white;position: relative;}#sk-container-id-2 div.sk-item::before, #sk-container-id-2 div.sk-parallel-item::before {content: \"\";position: absolute;border-left: 1px solid gray;box-sizing: border-box;top: 0;bottom: 0;left: 50%;z-index: -1;}#sk-container-id-2 div.sk-parallel-item {display: flex;flex-direction: column;z-index: 1;position: relative;background-color: white;}#sk-container-id-2 div.sk-parallel-item:first-child::after {align-self: flex-end;width: 50%;}#sk-container-id-2 div.sk-parallel-item:last-child::after {align-self: flex-start;width: 50%;}#sk-container-id-2 div.sk-parallel-item:only-child::after {width: 0;}#sk-container-id-2 div.sk-dashed-wrapped {border: 1px dashed gray;margin: 0 0.4em 0.5em 0.4em;box-sizing: border-box;padding-bottom: 0.4em;background-color: white;}#sk-container-id-2 div.sk-label label {font-family: monospace;font-weight: bold;display: inline-block;line-height: 1.2em;}#sk-container-id-2 div.sk-label-container {text-align: center;}#sk-container-id-2 div.sk-container {/* jupyter's `normalize.less` sets `[hidden] { display: none; }` but bootstrap.min.css set `[hidden] { display: none !important; }` so we also need the `!important` here to be able to override the default hidden behavior on the sphinx rendered scikit-learn.org. See: https://github.com/scikit-learn/scikit-learn/issues/21755 */display: inline-block !important;position: relative;}#sk-container-id-2 div.sk-text-repr-fallback {display: none;}</style><div id=\"sk-container-id-2\" class=\"sk-top-container\"><div class=\"sk-text-repr-fallback\"><pre>XGBRegressor(base_score=None, booster=None, callbacks=None,\n",
       "             colsample_bylevel=None, colsample_bynode=None,\n",
       "             colsample_bytree=0.8, early_stopping_rounds=None,\n",
       "             enable_categorical=False, eval_metric=&#x27;mape&#x27;, feature_types=None,\n",
       "             gamma=None, gpu_id=None, grow_policy=None, importance_type=None,\n",
       "             interaction_constraints=None, learning_rate=0.01, max_bin=None,\n",
       "             max_cat_threshold=None, max_cat_to_onehot=None,\n",
       "             max_delta_step=None, max_depth=4, max_leaves=None,\n",
       "             min_child_weight=None, missing=nan, monotone_constraints=None,\n",
       "             n_estimators=150, n_jobs=None, num_parallel_tree=None,\n",
       "             predictor=None, random_state=123, ...)</pre><b>In a Jupyter environment, please rerun this cell to show the HTML representation or trust the notebook. <br />On GitHub, the HTML representation is unable to render, please try loading this page with nbviewer.org.</b></div><div class=\"sk-container\" hidden><div class=\"sk-item\"><div class=\"sk-estimator sk-toggleable\"><input class=\"sk-toggleable__control sk-hidden--visually\" id=\"sk-estimator-id-4\" type=\"checkbox\" checked><label for=\"sk-estimator-id-4\" class=\"sk-toggleable__label sk-toggleable__label-arrow\">XGBRegressor</label><div class=\"sk-toggleable__content\"><pre>XGBRegressor(base_score=None, booster=None, callbacks=None,\n",
       "             colsample_bylevel=None, colsample_bynode=None,\n",
       "             colsample_bytree=0.8, early_stopping_rounds=None,\n",
       "             enable_categorical=False, eval_metric=&#x27;mape&#x27;, feature_types=None,\n",
       "             gamma=None, gpu_id=None, grow_policy=None, importance_type=None,\n",
       "             interaction_constraints=None, learning_rate=0.01, max_bin=None,\n",
       "             max_cat_threshold=None, max_cat_to_onehot=None,\n",
       "             max_delta_step=None, max_depth=4, max_leaves=None,\n",
       "             min_child_weight=None, missing=nan, monotone_constraints=None,\n",
       "             n_estimators=150, n_jobs=None, num_parallel_tree=None,\n",
       "             predictor=None, random_state=123, ...)</pre></div></div></div></div></div>"
      ],
      "text/plain": [
       "XGBRegressor(base_score=None, booster=None, callbacks=None,\n",
       "             colsample_bylevel=None, colsample_bynode=None,\n",
       "             colsample_bytree=0.8, early_stopping_rounds=None,\n",
       "             enable_categorical=False, eval_metric='mape', feature_types=None,\n",
       "             gamma=None, gpu_id=None, grow_policy=None, importance_type=None,\n",
       "             interaction_constraints=None, learning_rate=0.01, max_bin=None,\n",
       "             max_cat_threshold=None, max_cat_to_onehot=None,\n",
       "             max_delta_step=None, max_depth=4, max_leaves=None,\n",
       "             min_child_weight=None, missing=nan, monotone_constraints=None,\n",
       "             n_estimators=150, n_jobs=None, num_parallel_tree=None,\n",
       "             predictor=None, random_state=123, ...)"
      ]
     },
     "execution_count": 20,
     "metadata": {},
     "output_type": "execute_result"
    }
   ],
   "source": [
    "dwell_time_model = grid_search_cv.best_estimator_\n",
    "dwell_time_model.fit(X_train_scaled,y_train_dwell_time)"
   ]
  },
  {
   "cell_type": "code",
   "execution_count": 21,
   "id": "820de993",
   "metadata": {
    "execution": {
     "iopub.execute_input": "2023-10-07T16:43:28.265676Z",
     "iopub.status.busy": "2023-10-07T16:43:28.264913Z",
     "iopub.status.idle": "2023-10-07T16:43:28.279520Z",
     "shell.execute_reply": "2023-10-07T16:43:28.278706Z"
    },
    "papermill": {
     "duration": 0.027137,
     "end_time": "2023-10-07T16:43:28.281787",
     "exception": false,
     "start_time": "2023-10-07T16:43:28.254650",
     "status": "completed"
    },
    "tags": []
   },
   "outputs": [],
   "source": [
    "predictions = dwell_time_model.predict(X_test_scaled)"
   ]
  },
  {
   "cell_type": "code",
   "execution_count": 22,
   "id": "288ccb0f",
   "metadata": {
    "execution": {
     "iopub.execute_input": "2023-10-07T16:43:28.302292Z",
     "iopub.status.busy": "2023-10-07T16:43:28.301351Z",
     "iopub.status.idle": "2023-10-07T16:43:28.307178Z",
     "shell.execute_reply": "2023-10-07T16:43:28.306405Z"
    },
    "papermill": {
     "duration": 0.017896,
     "end_time": "2023-10-07T16:43:28.309052",
     "exception": false,
     "start_time": "2023-10-07T16:43:28.291156",
     "status": "completed"
    },
    "tags": []
   },
   "outputs": [
    {
     "data": {
      "text/plain": [
       "array([20.048204 , 12.3188305, 14.4418745, ..., 15.670224 , 14.325334 ,\n",
       "       18.414507 ], dtype=float32)"
      ]
     },
     "execution_count": 22,
     "metadata": {},
     "output_type": "execute_result"
    }
   ],
   "source": [
    "predictions"
   ]
  },
  {
   "cell_type": "markdown",
   "id": "68840c58",
   "metadata": {
    "papermill": {
     "duration": 0.00843,
     "end_time": "2023-10-07T16:43:28.326065",
     "exception": false,
     "start_time": "2023-10-07T16:43:28.317635",
     "status": "completed"
    },
    "tags": []
   },
   "source": [
    "#### Model Evaluation"
   ]
  },
  {
   "cell_type": "code",
   "execution_count": 23,
   "id": "800d8e42",
   "metadata": {
    "execution": {
     "iopub.execute_input": "2023-10-07T16:43:28.344909Z",
     "iopub.status.busy": "2023-10-07T16:43:28.344528Z",
     "iopub.status.idle": "2023-10-07T16:43:28.353217Z",
     "shell.execute_reply": "2023-10-07T16:43:28.351929Z"
    },
    "papermill": {
     "duration": 0.021193,
     "end_time": "2023-10-07T16:43:28.355934",
     "exception": false,
     "start_time": "2023-10-07T16:43:28.334741",
     "status": "completed"
    },
    "tags": []
   },
   "outputs": [],
   "source": [
    "mse = metrics.mean_squared_error(y_test_dwell_time,predictions)\n",
    "rmse = np.sqrt(mse)\n",
    "mae = metrics.mean_absolute_error(y_test_dwell_time,predictions)\n",
    "#mape = metrics.mean_absolute_percentage_error(y_test_dwell_time,predictions)\n",
    "r2 = metrics.r2_score(y_test_dwell_time,predictions)"
   ]
  },
  {
   "cell_type": "code",
   "execution_count": 24,
   "id": "0e282ef4",
   "metadata": {
    "execution": {
     "iopub.execute_input": "2023-10-07T16:43:28.378723Z",
     "iopub.status.busy": "2023-10-07T16:43:28.378029Z",
     "iopub.status.idle": "2023-10-07T16:43:28.383276Z",
     "shell.execute_reply": "2023-10-07T16:43:28.382206Z"
    },
    "papermill": {
     "duration": 0.017532,
     "end_time": "2023-10-07T16:43:28.385094",
     "exception": false,
     "start_time": "2023-10-07T16:43:28.367562",
     "status": "completed"
    },
    "tags": []
   },
   "outputs": [
    {
     "name": "stdout",
     "output_type": "stream",
     "text": [
      "Model Evaluation\n",
      "\n",
      "Mean Squared Error\t: 1459.271115\n",
      "Root Mean Squared Error\t: 38.200407\n",
      "Mean Absolute Error\t: 19.597074\n",
      "R-Squared\t: 0.140648\n"
     ]
    }
   ],
   "source": [
    "print (\"Model Evaluation\\n\")\n",
    "print (\"Mean Squared Error\\t: %f\\nRoot Mean Squared Error\\t: %f\\nMean Absolute Error\\t: %f\\nR-Squared\\t: %f\"%(mse,rmse,mae,r2))"
   ]
  },
  {
   "cell_type": "code",
   "execution_count": 25,
   "id": "a86d1f65",
   "metadata": {
    "execution": {
     "iopub.execute_input": "2023-10-07T16:43:28.412170Z",
     "iopub.status.busy": "2023-10-07T16:43:28.411212Z",
     "iopub.status.idle": "2023-10-07T16:43:28.429288Z",
     "shell.execute_reply": "2023-10-07T16:43:28.428053Z"
    },
    "papermill": {
     "duration": 0.037578,
     "end_time": "2023-10-07T16:43:28.432463",
     "exception": false,
     "start_time": "2023-10-07T16:43:28.394885",
     "status": "completed"
    },
    "tags": []
   },
   "outputs": [],
   "source": [
    "dwell_time_model.save_model('dwell_time_model_version_2.json')"
   ]
  },
  {
   "cell_type": "code",
   "execution_count": 26,
   "id": "f9dc4b25",
   "metadata": {
    "execution": {
     "iopub.execute_input": "2023-10-07T16:43:28.455373Z",
     "iopub.status.busy": "2023-10-07T16:43:28.454921Z",
     "iopub.status.idle": "2023-10-07T16:43:28.482602Z",
     "shell.execute_reply": "2023-10-07T16:43:28.481832Z"
    },
    "papermill": {
     "duration": 0.041567,
     "end_time": "2023-10-07T16:43:28.484671",
     "exception": false,
     "start_time": "2023-10-07T16:43:28.443104",
     "status": "completed"
    },
    "tags": []
   },
   "outputs": [],
   "source": [
    "predictions_df = pd.DataFrame(predictions,columns=['predicted_dwell_time'])\n",
    "predictions_df.to_csv('predicted_dwell_times_02.csv')"
   ]
  },
  {
   "cell_type": "markdown",
   "id": "77a4df7a",
   "metadata": {
    "papermill": {
     "duration": 0.008987,
     "end_time": "2023-10-07T16:43:28.503023",
     "exception": false,
     "start_time": "2023-10-07T16:43:28.494036",
     "status": "completed"
    },
    "tags": []
   },
   "source": [
    "\n",
    "### Feature Importance Analysis "
   ]
  },
  {
   "cell_type": "code",
   "execution_count": 27,
   "id": "e2eb7549",
   "metadata": {
    "execution": {
     "iopub.execute_input": "2023-10-07T16:43:28.523239Z",
     "iopub.status.busy": "2023-10-07T16:43:28.522537Z",
     "iopub.status.idle": "2023-10-07T16:43:29.976580Z",
     "shell.execute_reply": "2023-10-07T16:43:29.975737Z"
    },
    "papermill": {
     "duration": 1.466598,
     "end_time": "2023-10-07T16:43:29.978850",
     "exception": false,
     "start_time": "2023-10-07T16:43:28.512252",
     "status": "completed"
    },
    "tags": []
   },
   "outputs": [],
   "source": [
    "x_importance = X_test_scaled\n",
    "explainer = shap.TreeExplainer(dwell_time_model)\n",
    "shap_values = explainer.shap_values(x_importance)"
   ]
  },
  {
   "cell_type": "code",
   "execution_count": 28,
   "id": "d8213a7f",
   "metadata": {
    "execution": {
     "iopub.execute_input": "2023-10-07T16:43:29.999999Z",
     "iopub.status.busy": "2023-10-07T16:43:29.999578Z",
     "iopub.status.idle": "2023-10-07T16:43:30.008239Z",
     "shell.execute_reply": "2023-10-07T16:43:30.007290Z"
    },
    "papermill": {
     "duration": 0.021372,
     "end_time": "2023-10-07T16:43:30.010265",
     "exception": false,
     "start_time": "2023-10-07T16:43:29.988893",
     "status": "completed"
    },
    "tags": []
   },
   "outputs": [],
   "source": [
    "shap_data =pd.DataFrame((zip(scaler.get_feature_names_out()[np.argsort(np.abs(shap_values).mean(0))],\n",
    "np.abs(shap_values).mean(0))), columns=[\"feature\", \"importance\" ]).sort_values(by=\"importance\", ascending=True)\n",
    "shap_data.to_csv('shap_running_initial.csv')"
   ]
  },
  {
   "cell_type": "code",
   "execution_count": 29,
   "id": "309265d1",
   "metadata": {
    "execution": {
     "iopub.execute_input": "2023-10-07T16:43:30.030779Z",
     "iopub.status.busy": "2023-10-07T16:43:30.030115Z",
     "iopub.status.idle": "2023-10-07T16:43:30.385110Z",
     "shell.execute_reply": "2023-10-07T16:43:30.384014Z"
    },
    "papermill": {
     "duration": 0.367927,
     "end_time": "2023-10-07T16:43:30.387378",
     "exception": false,
     "start_time": "2023-10-07T16:43:30.019451",
     "status": "completed"
    },
    "tags": []
   },
   "outputs": [
    {
     "data": {
      "image/png": "[encoded data removed]",
      "text/plain": [
       "<Figure size 800x870 with 1 Axes>"
      ]
     },
     "metadata": {},
     "output_type": "display_data"
    }
   ],
   "source": [
    "shap.summary_plot(shap_values,x_importance,feature_names=scaler.get_feature_names_out(),color = 'blue',plot_type=\"bar\")"
   ]
  }
 ],
 "metadata": {
  "kernelspec": {
   "display_name": "Python 3",
   "language": "python",
   "name": "python3"
  },
  "language_info": {
   "codemirror_mode": {
    "name": "ipython",
    "version": 3
   },
   "file_extension": ".py",
   "mimetype": "text/x-python",
   "name": "python",
   "nbconvert_exporter": "python",
   "pygments_lexer": "ipython3",
   "version": "3.10.12"
  },
  "papermill": {
   "default_parameters": {},
   "duration": 1222.477426,
   "end_time": "2023-10-07T16:43:31.622134",
   "environment_variables": {},
   "exception": null,
   "input_path": "__notebook__.ipynb",
   "output_path": "__notebook__.ipynb",
   "parameters": {},
   "start_time": "2023-10-07T16:23:09.144708",
   "version": "2.4.0"
  }
 },
 "nbformat": 4,
 "nbformat_minor": 5
}
