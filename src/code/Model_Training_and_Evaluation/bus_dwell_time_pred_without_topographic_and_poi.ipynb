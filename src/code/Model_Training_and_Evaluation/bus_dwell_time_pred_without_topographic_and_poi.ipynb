{
 "cells": [
  {
   "cell_type": "markdown",
   "id": "57cbf6d1",
   "metadata": {
    "papermill": {
     "duration": 0.006619,
     "end_time": "2023-10-07T15:12:51.925621",
     "exception": false,
     "start_time": "2023-10-07T15:12:51.919002",
     "status": "completed"
    },
    "tags": []
   },
   "source": [
    "## Bus Arrival Time Prediction and Real Time Updating \n",
    "##### Group 27\n",
    "\n",
    "##### Dwell time Prediction Model\n"
   ]
  },
  {
   "cell_type": "code",
   "execution_count": 1,
   "id": "9ff739b3",
   "metadata": {
    "execution": {
     "iopub.execute_input": "2023-10-07T15:12:51.940046Z",
     "iopub.status.busy": "2023-10-07T15:12:51.939538Z",
     "iopub.status.idle": "2023-10-07T15:12:52.819491Z",
     "shell.execute_reply": "2023-10-07T15:12:52.818207Z"
    },
    "papermill": {
     "duration": 0.889964,
     "end_time": "2023-10-07T15:12:52.821920",
     "exception": false,
     "start_time": "2023-10-07T15:12:51.931956",
     "status": "completed"
    },
    "tags": []
   },
   "outputs": [
    {
     "name": "stdout",
     "output_type": "stream",
     "text": [
      "/kaggle/input/dwell-time-data/bus_stop_times_poi_data_added_modified.csv\n"
     ]
    }
   ],
   "source": [
    "# This Python 3 environment comes with many helpful analytics libraries installed\n",
    "# It is defined by the kaggle/python Docker image: https://github.com/kaggle/docker-python\n",
    "# For example, here's several helpful packages to load\n",
    "\n",
    "import numpy as np # linear algebra\n",
    "import pandas as pd # data processing, CSV file I/O (e.g. pd.read_csv)\n",
    "\n",
    "# Input data files are available in the read-only \"../input/\" directory\n",
    "# For example, running this (by clicking run or pressing Shift+Enter) will list all files under the input directory\n",
    "\n",
    "import os\n",
    "for dirname, _, filenames in os.walk('/kaggle/input'):\n",
    "    for filename in filenames:\n",
    "        print(os.path.join(dirname, filename))\n",
    "\n",
    "# You can write up to 20GB to the current directory (/kaggle/working/) that gets preserved as output when you create a version using \"Save & Run All\" \n",
    "# You can also write temporary files to /kaggle/temp/, but they won't be saved outside of the current session"
   ]
  },
  {
   "cell_type": "code",
   "execution_count": 2,
   "id": "e3a478a2",
   "metadata": {
    "execution": {
     "iopub.execute_input": "2023-10-07T15:12:52.836175Z",
     "iopub.status.busy": "2023-10-07T15:12:52.835671Z",
     "iopub.status.idle": "2023-10-07T15:13:01.994162Z",
     "shell.execute_reply": "2023-10-07T15:13:01.993002Z"
    },
    "papermill": {
     "duration": 9.168924,
     "end_time": "2023-10-07T15:13:01.996813",
     "exception": false,
     "start_time": "2023-10-07T15:12:52.827889",
     "status": "completed"
    },
    "tags": []
   },
   "outputs": [
    {
     "name": "stderr",
     "output_type": "stream",
     "text": [
      "Using `tqdm.autonotebook.tqdm` in notebook mode. Use `tqdm.tqdm` instead to force console mode (e.g. in jupyter console)\n"
     ]
    }
   ],
   "source": [
    "# import libraries\n",
    "\n",
    "import xgboost as xgb\n",
    "from sklearn import metrics\n",
    "from sklearn.model_selection import GridSearchCV, TimeSeriesSplit\n",
    "from sklearn.preprocessing import StandardScaler\n",
    "from sklearn.decomposition import PCA\n",
    "import matplotlib.pyplot as plt\n",
    "import seaborn as sns\n",
    "import shap\n",
    "%matplotlib inline\n"
   ]
  },
  {
   "cell_type": "code",
   "execution_count": 3,
   "id": "8ca3f8b5",
   "metadata": {
    "execution": {
     "iopub.execute_input": "2023-10-07T15:13:02.011700Z",
     "iopub.status.busy": "2023-10-07T15:13:02.011105Z",
     "iopub.status.idle": "2023-10-07T15:13:02.807247Z",
     "shell.execute_reply": "2023-10-07T15:13:02.806268Z"
    },
    "papermill": {
     "duration": 0.806173,
     "end_time": "2023-10-07T15:13:02.809586",
     "exception": false,
     "start_time": "2023-10-07T15:13:02.003413",
     "status": "completed"
    },
    "tags": []
   },
   "outputs": [],
   "source": [
    "# read the dataset - running times\n",
    "dwell_time_data = pd.read_csv('/kaggle/input/dwell-time-data/bus_stop_times_poi_data_added_modified.csv')"
   ]
  },
  {
   "cell_type": "code",
   "execution_count": 4,
   "id": "c33afff1",
   "metadata": {
    "execution": {
     "iopub.execute_input": "2023-10-07T15:13:02.825579Z",
     "iopub.status.busy": "2023-10-07T15:13:02.825095Z",
     "iopub.status.idle": "2023-10-07T15:13:02.868222Z",
     "shell.execute_reply": "2023-10-07T15:13:02.867002Z"
    },
    "papermill": {
     "duration": 0.054362,
     "end_time": "2023-10-07T15:13:02.870876",
     "exception": false,
     "start_time": "2023-10-07T15:13:02.816514",
     "status": "completed"
    },
    "tags": []
   },
   "outputs": [
    {
     "data": {
      "text/html": [
       "<div>\n",
       "<style scoped>\n",
       "    .dataframe tbody tr th:only-of-type {\n",
       "        vertical-align: middle;\n",
       "    }\n",
       "\n",
       "    .dataframe tbody tr th {\n",
       "        vertical-align: top;\n",
       "    }\n",
       "\n",
       "    .dataframe thead th {\n",
       "        text-align: right;\n",
       "    }\n",
       "</style>\n",
       "<table border=\"1\" class=\"dataframe\">\n",
       "  <thead>\n",
       "    <tr style=\"text-align: right;\">\n",
       "      <th></th>\n",
       "      <th>Unnamed: 0</th>\n",
       "      <th>trip_id</th>\n",
       "      <th>deviceid</th>\n",
       "      <th>direction</th>\n",
       "      <th>bus_stop</th>\n",
       "      <th>date</th>\n",
       "      <th>arrival_time</th>\n",
       "      <th>departure_time</th>\n",
       "      <th>dwell_time</th>\n",
       "      <th>dwell_time_in_seconds_old</th>\n",
       "      <th>...</th>\n",
       "      <th>dwell_time_in_seconds</th>\n",
       "      <th>place_of_worship</th>\n",
       "      <th>place_of_education</th>\n",
       "      <th>hospital</th>\n",
       "      <th>tourist_attractions</th>\n",
       "      <th>commercial_places</th>\n",
       "      <th>public_places</th>\n",
       "      <th>nearby_bus_stops</th>\n",
       "      <th>total_poi_count</th>\n",
       "      <th>average_poi_distance</th>\n",
       "    </tr>\n",
       "  </thead>\n",
       "  <tbody>\n",
       "    <tr>\n",
       "      <th>0</th>\n",
       "      <td>0</td>\n",
       "      <td>1</td>\n",
       "      <td>262</td>\n",
       "      <td>1</td>\n",
       "      <td>101</td>\n",
       "      <td>2021-10-01</td>\n",
       "      <td>06:40:58</td>\n",
       "      <td>06:42:12</td>\n",
       "      <td>0:01:14</td>\n",
       "      <td>74.0</td>\n",
       "      <td>...</td>\n",
       "      <td>74.0</td>\n",
       "      <td>3</td>\n",
       "      <td>1</td>\n",
       "      <td>0</td>\n",
       "      <td>23</td>\n",
       "      <td>1</td>\n",
       "      <td>7</td>\n",
       "      <td>1</td>\n",
       "      <td>13</td>\n",
       "      <td>0.002210</td>\n",
       "    </tr>\n",
       "    <tr>\n",
       "      <th>1</th>\n",
       "      <td>1</td>\n",
       "      <td>1</td>\n",
       "      <td>262</td>\n",
       "      <td>1</td>\n",
       "      <td>102</td>\n",
       "      <td>2021-10-01</td>\n",
       "      <td>06:45:42</td>\n",
       "      <td>06:45:42</td>\n",
       "      <td>0:00:00</td>\n",
       "      <td>0.0</td>\n",
       "      <td>...</td>\n",
       "      <td>0.0</td>\n",
       "      <td>0</td>\n",
       "      <td>8</td>\n",
       "      <td>0</td>\n",
       "      <td>2</td>\n",
       "      <td>0</td>\n",
       "      <td>1</td>\n",
       "      <td>0</td>\n",
       "      <td>6</td>\n",
       "      <td>0.002406</td>\n",
       "    </tr>\n",
       "    <tr>\n",
       "      <th>2</th>\n",
       "      <td>2</td>\n",
       "      <td>1</td>\n",
       "      <td>262</td>\n",
       "      <td>1</td>\n",
       "      <td>103</td>\n",
       "      <td>2021-10-01</td>\n",
       "      <td>06:53:58</td>\n",
       "      <td>06:54:04</td>\n",
       "      <td>0:00:06</td>\n",
       "      <td>6.0</td>\n",
       "      <td>...</td>\n",
       "      <td>6.0</td>\n",
       "      <td>4</td>\n",
       "      <td>0</td>\n",
       "      <td>0</td>\n",
       "      <td>2</td>\n",
       "      <td>0</td>\n",
       "      <td>1</td>\n",
       "      <td>0</td>\n",
       "      <td>5</td>\n",
       "      <td>0.002081</td>\n",
       "    </tr>\n",
       "    <tr>\n",
       "      <th>3</th>\n",
       "      <td>3</td>\n",
       "      <td>1</td>\n",
       "      <td>262</td>\n",
       "      <td>1</td>\n",
       "      <td>104</td>\n",
       "      <td>2021-10-01</td>\n",
       "      <td>06:57:19</td>\n",
       "      <td>06:57:19</td>\n",
       "      <td>0:00:00</td>\n",
       "      <td>0.0</td>\n",
       "      <td>...</td>\n",
       "      <td>0.0</td>\n",
       "      <td>2</td>\n",
       "      <td>0</td>\n",
       "      <td>0</td>\n",
       "      <td>1</td>\n",
       "      <td>0</td>\n",
       "      <td>1</td>\n",
       "      <td>0</td>\n",
       "      <td>3</td>\n",
       "      <td>0.001165</td>\n",
       "    </tr>\n",
       "    <tr>\n",
       "      <th>4</th>\n",
       "      <td>4</td>\n",
       "      <td>1</td>\n",
       "      <td>262</td>\n",
       "      <td>1</td>\n",
       "      <td>105</td>\n",
       "      <td>2021-10-01</td>\n",
       "      <td>06:58:56</td>\n",
       "      <td>07:02:27</td>\n",
       "      <td>0:03:31</td>\n",
       "      <td>211.0</td>\n",
       "      <td>...</td>\n",
       "      <td>211.0</td>\n",
       "      <td>2</td>\n",
       "      <td>1</td>\n",
       "      <td>0</td>\n",
       "      <td>0</td>\n",
       "      <td>0</td>\n",
       "      <td>2</td>\n",
       "      <td>0</td>\n",
       "      <td>3</td>\n",
       "      <td>0.001913</td>\n",
       "    </tr>\n",
       "  </tbody>\n",
       "</table>\n",
       "<p>5 rows × 43 columns</p>\n",
       "</div>"
      ],
      "text/plain": [
       "   Unnamed: 0  trip_id  deviceid  direction  bus_stop        date  \\\n",
       "0           0        1       262          1       101  2021-10-01   \n",
       "1           1        1       262          1       102  2021-10-01   \n",
       "2           2        1       262          1       103  2021-10-01   \n",
       "3           3        1       262          1       104  2021-10-01   \n",
       "4           4        1       262          1       105  2021-10-01   \n",
       "\n",
       "  arrival_time departure_time dwell_time  dwell_time_in_seconds_old  ...  \\\n",
       "0     06:40:58       06:42:12    0:01:14                       74.0  ...   \n",
       "1     06:45:42       06:45:42    0:00:00                        0.0  ...   \n",
       "2     06:53:58       06:54:04    0:00:06                        6.0  ...   \n",
       "3     06:57:19       06:57:19    0:00:00                        0.0  ...   \n",
       "4     06:58:56       07:02:27    0:03:31                      211.0  ...   \n",
       "\n",
       "   dwell_time_in_seconds  place_of_worship  place_of_education  hospital  \\\n",
       "0                   74.0                 3                   1         0   \n",
       "1                    0.0                 0                   8         0   \n",
       "2                    6.0                 4                   0         0   \n",
       "3                    0.0                 2                   0         0   \n",
       "4                  211.0                 2                   1         0   \n",
       "\n",
       "   tourist_attractions  commercial_places  public_places  nearby_bus_stops  \\\n",
       "0                   23                  1              7                 1   \n",
       "1                    2                  0              1                 0   \n",
       "2                    2                  0              1                 0   \n",
       "3                    1                  0              1                 0   \n",
       "4                    0                  0              2                 0   \n",
       "\n",
       "   total_poi_count  average_poi_distance  \n",
       "0               13              0.002210  \n",
       "1                6              0.002406  \n",
       "2                5              0.002081  \n",
       "3                3              0.001165  \n",
       "4                3              0.001913  \n",
       "\n",
       "[5 rows x 43 columns]"
      ]
     },
     "execution_count": 4,
     "metadata": {},
     "output_type": "execute_result"
    }
   ],
   "source": [
    "dwell_time_data.head()"
   ]
  },
  {
   "cell_type": "code",
   "execution_count": 5,
   "id": "e44f65ca",
   "metadata": {
    "execution": {
     "iopub.execute_input": "2023-10-07T15:13:02.887562Z",
     "iopub.status.busy": "2023-10-07T15:13:02.886868Z",
     "iopub.status.idle": "2023-10-07T15:13:02.925458Z",
     "shell.execute_reply": "2023-10-07T15:13:02.924504Z"
    },
    "papermill": {
     "duration": 0.051388,
     "end_time": "2023-10-07T15:13:02.928887",
     "exception": false,
     "start_time": "2023-10-07T15:13:02.877499",
     "status": "completed"
    },
    "tags": []
   },
   "outputs": [],
   "source": [
    "#filter non brief stops from the dataset\n",
    "dwell_time_data = dwell_time_data.drop(dwell_time_data[dwell_time_data['stop_type']=='br'].index)"
   ]
  },
  {
   "cell_type": "code",
   "execution_count": 6,
   "id": "18c0de4b",
   "metadata": {
    "execution": {
     "iopub.execute_input": "2023-10-07T15:13:02.945415Z",
     "iopub.status.busy": "2023-10-07T15:13:02.944989Z",
     "iopub.status.idle": "2023-10-07T15:13:02.953210Z",
     "shell.execute_reply": "2023-10-07T15:13:02.951643Z"
    },
    "papermill": {
     "duration": 0.020195,
     "end_time": "2023-10-07T15:13:02.955932",
     "exception": false,
     "start_time": "2023-10-07T15:13:02.935737",
     "status": "completed"
    },
    "tags": []
   },
   "outputs": [
    {
     "data": {
      "text/plain": [
       "Index(['Unnamed: 0', 'trip_id', 'deviceid', 'direction', 'bus_stop', 'date',\n",
       "       'arrival_time', 'departure_time', 'dwell_time',\n",
       "       'dwell_time_in_seconds_old', 'day_of_week', 'time_of_day',\n",
       "       'Sunday/holiday', 'saturday', 'weekday/end', 'week_no', 'dt(w-1)',\n",
       "       'dt(w-2)', 'dt(w-3)', 'dt(t-1)', 'dt(t-2)', 'dt(n-1)', 'dt(n-2)',\n",
       "       'dt(n-3)', 'hour_of_day', 'day', 'month', 'temp', 'precip', 'windspeed',\n",
       "       'conditions', 'rt(n-1)', 'stop_type', 'dwell_time_in_seconds',\n",
       "       'place_of_worship', 'place_of_education', 'hospital',\n",
       "       'tourist_attractions', 'commercial_places', 'public_places',\n",
       "       'nearby_bus_stops', 'total_poi_count', 'average_poi_distance'],\n",
       "      dtype='object')"
      ]
     },
     "execution_count": 6,
     "metadata": {},
     "output_type": "execute_result"
    }
   ],
   "source": [
    "dwell_time_data.columns"
   ]
  },
  {
   "cell_type": "code",
   "execution_count": 7,
   "id": "c3a5fcfa",
   "metadata": {
    "execution": {
     "iopub.execute_input": "2023-10-07T15:13:02.972633Z",
     "iopub.status.busy": "2023-10-07T15:13:02.972134Z",
     "iopub.status.idle": "2023-10-07T15:13:02.984902Z",
     "shell.execute_reply": "2023-10-07T15:13:02.983712Z"
    },
    "papermill": {
     "duration": 0.023912,
     "end_time": "2023-10-07T15:13:02.987011",
     "exception": false,
     "start_time": "2023-10-07T15:13:02.963099",
     "status": "completed"
    },
    "tags": []
   },
   "outputs": [],
   "source": [
    "features =  ['deviceid','week_no','day_of_week','time_of_day','Sunday/holiday','weekday/end','bus_stop','precip','temp',\n",
    "            'dt(n-1)','dt(n-2)', 'dt(n-3)','dt(t-1)', 'dt(t-2)', 'dt(w-1)', 'dt(w-2)', \n",
    "             'dt(w-3)', 'rt(n-1)','dwell_time_in_seconds']\n",
    "dwell_time_dataset = dwell_time_data[features]"
   ]
  },
  {
   "cell_type": "code",
   "execution_count": 8,
   "id": "482878f0",
   "metadata": {
    "execution": {
     "iopub.execute_input": "2023-10-07T15:13:03.002731Z",
     "iopub.status.busy": "2023-10-07T15:13:03.001728Z",
     "iopub.status.idle": "2023-10-07T15:13:03.022645Z",
     "shell.execute_reply": "2023-10-07T15:13:03.021489Z"
    },
    "papermill": {
     "duration": 0.031738,
     "end_time": "2023-10-07T15:13:03.025219",
     "exception": false,
     "start_time": "2023-10-07T15:13:02.993481",
     "status": "completed"
    },
    "tags": []
   },
   "outputs": [
    {
     "data": {
      "text/html": [
       "<div>\n",
       "<style scoped>\n",
       "    .dataframe tbody tr th:only-of-type {\n",
       "        vertical-align: middle;\n",
       "    }\n",
       "\n",
       "    .dataframe tbody tr th {\n",
       "        vertical-align: top;\n",
       "    }\n",
       "\n",
       "    .dataframe thead th {\n",
       "        text-align: right;\n",
       "    }\n",
       "</style>\n",
       "<table border=\"1\" class=\"dataframe\">\n",
       "  <thead>\n",
       "    <tr style=\"text-align: right;\">\n",
       "      <th></th>\n",
       "      <th>deviceid</th>\n",
       "      <th>week_no</th>\n",
       "      <th>day_of_week</th>\n",
       "      <th>time_of_day</th>\n",
       "      <th>Sunday/holiday</th>\n",
       "      <th>weekday/end</th>\n",
       "      <th>bus_stop</th>\n",
       "      <th>precip</th>\n",
       "      <th>temp</th>\n",
       "      <th>dt(n-1)</th>\n",
       "      <th>dt(n-2)</th>\n",
       "      <th>dt(n-3)</th>\n",
       "      <th>dt(t-1)</th>\n",
       "      <th>dt(t-2)</th>\n",
       "      <th>dt(w-1)</th>\n",
       "      <th>dt(w-2)</th>\n",
       "      <th>dt(w-3)</th>\n",
       "      <th>rt(n-1)</th>\n",
       "      <th>dwell_time_in_seconds</th>\n",
       "    </tr>\n",
       "  </thead>\n",
       "  <tbody>\n",
       "    <tr>\n",
       "      <th>0</th>\n",
       "      <td>262</td>\n",
       "      <td>1</td>\n",
       "      <td>4</td>\n",
       "      <td>6.50</td>\n",
       "      <td>0</td>\n",
       "      <td>1</td>\n",
       "      <td>101</td>\n",
       "      <td>0.0</td>\n",
       "      <td>20.0</td>\n",
       "      <td>92.0</td>\n",
       "      <td>92.0</td>\n",
       "      <td>92.0</td>\n",
       "      <td>92.0</td>\n",
       "      <td>92.0</td>\n",
       "      <td>92.0</td>\n",
       "      <td>92.0</td>\n",
       "      <td>92.0</td>\n",
       "      <td>69.0</td>\n",
       "      <td>74.0</td>\n",
       "    </tr>\n",
       "    <tr>\n",
       "      <th>1</th>\n",
       "      <td>262</td>\n",
       "      <td>1</td>\n",
       "      <td>4</td>\n",
       "      <td>6.75</td>\n",
       "      <td>0</td>\n",
       "      <td>1</td>\n",
       "      <td>102</td>\n",
       "      <td>0.0</td>\n",
       "      <td>20.0</td>\n",
       "      <td>74.0</td>\n",
       "      <td>45.0</td>\n",
       "      <td>45.0</td>\n",
       "      <td>45.0</td>\n",
       "      <td>45.0</td>\n",
       "      <td>45.0</td>\n",
       "      <td>45.0</td>\n",
       "      <td>45.0</td>\n",
       "      <td>210.0</td>\n",
       "      <td>0.0</td>\n",
       "    </tr>\n",
       "    <tr>\n",
       "      <th>2</th>\n",
       "      <td>262</td>\n",
       "      <td>1</td>\n",
       "      <td>4</td>\n",
       "      <td>6.75</td>\n",
       "      <td>0</td>\n",
       "      <td>1</td>\n",
       "      <td>103</td>\n",
       "      <td>0.0</td>\n",
       "      <td>20.0</td>\n",
       "      <td>0.0</td>\n",
       "      <td>74.0</td>\n",
       "      <td>28.0</td>\n",
       "      <td>28.0</td>\n",
       "      <td>28.0</td>\n",
       "      <td>28.0</td>\n",
       "      <td>28.0</td>\n",
       "      <td>28.0</td>\n",
       "      <td>496.0</td>\n",
       "      <td>6.0</td>\n",
       "    </tr>\n",
       "    <tr>\n",
       "      <th>4</th>\n",
       "      <td>262</td>\n",
       "      <td>1</td>\n",
       "      <td>4</td>\n",
       "      <td>6.75</td>\n",
       "      <td>0</td>\n",
       "      <td>1</td>\n",
       "      <td>105</td>\n",
       "      <td>0.0</td>\n",
       "      <td>20.0</td>\n",
       "      <td>0.0</td>\n",
       "      <td>6.0</td>\n",
       "      <td>0.0</td>\n",
       "      <td>230.0</td>\n",
       "      <td>230.0</td>\n",
       "      <td>230.0</td>\n",
       "      <td>230.0</td>\n",
       "      <td>230.0</td>\n",
       "      <td>97.0</td>\n",
       "      <td>211.0</td>\n",
       "    </tr>\n",
       "    <tr>\n",
       "      <th>5</th>\n",
       "      <td>262</td>\n",
       "      <td>1</td>\n",
       "      <td>4</td>\n",
       "      <td>7.00</td>\n",
       "      <td>0</td>\n",
       "      <td>1</td>\n",
       "      <td>106</td>\n",
       "      <td>0.0</td>\n",
       "      <td>20.7</td>\n",
       "      <td>211.0</td>\n",
       "      <td>0.0</td>\n",
       "      <td>6.0</td>\n",
       "      <td>24.0</td>\n",
       "      <td>24.0</td>\n",
       "      <td>24.0</td>\n",
       "      <td>24.0</td>\n",
       "      <td>24.0</td>\n",
       "      <td>210.0</td>\n",
       "      <td>35.0</td>\n",
       "    </tr>\n",
       "  </tbody>\n",
       "</table>\n",
       "</div>"
      ],
      "text/plain": [
       "   deviceid  week_no  day_of_week  time_of_day  Sunday/holiday  weekday/end  \\\n",
       "0       262        1            4         6.50               0            1   \n",
       "1       262        1            4         6.75               0            1   \n",
       "2       262        1            4         6.75               0            1   \n",
       "4       262        1            4         6.75               0            1   \n",
       "5       262        1            4         7.00               0            1   \n",
       "\n",
       "   bus_stop  precip  temp  dt(n-1)  dt(n-2)  dt(n-3)  dt(t-1)  dt(t-2)  \\\n",
       "0       101     0.0  20.0     92.0     92.0     92.0     92.0     92.0   \n",
       "1       102     0.0  20.0     74.0     45.0     45.0     45.0     45.0   \n",
       "2       103     0.0  20.0      0.0     74.0     28.0     28.0     28.0   \n",
       "4       105     0.0  20.0      0.0      6.0      0.0    230.0    230.0   \n",
       "5       106     0.0  20.7    211.0      0.0      6.0     24.0     24.0   \n",
       "\n",
       "   dt(w-1)  dt(w-2)  dt(w-3)  rt(n-1)  dwell_time_in_seconds  \n",
       "0     92.0     92.0     92.0     69.0                   74.0  \n",
       "1     45.0     45.0     45.0    210.0                    0.0  \n",
       "2     28.0     28.0     28.0    496.0                    6.0  \n",
       "4    230.0    230.0    230.0     97.0                  211.0  \n",
       "5     24.0     24.0     24.0    210.0                   35.0  "
      ]
     },
     "execution_count": 8,
     "metadata": {},
     "output_type": "execute_result"
    }
   ],
   "source": [
    "dwell_time_dataset.head()"
   ]
  },
  {
   "cell_type": "code",
   "execution_count": 9,
   "id": "1555e47d",
   "metadata": {
    "execution": {
     "iopub.execute_input": "2023-10-07T15:13:03.040927Z",
     "iopub.status.busy": "2023-10-07T15:13:03.040289Z",
     "iopub.status.idle": "2023-10-07T15:13:03.045654Z",
     "shell.execute_reply": "2023-10-07T15:13:03.044612Z"
    },
    "papermill": {
     "duration": 0.015427,
     "end_time": "2023-10-07T15:13:03.047822",
     "exception": false,
     "start_time": "2023-10-07T15:13:03.032395",
     "status": "completed"
    },
    "tags": []
   },
   "outputs": [
    {
     "name": "stdout",
     "output_type": "stream",
     "text": [
      "No of data points in the dataset : 52748 \n",
      "No of Features\t: 18\n"
     ]
    }
   ],
   "source": [
    "print (\"No of data points in the dataset : %d \\nNo of Features\\t: %d\"%(dwell_time_dataset.shape[0],(dwell_time_dataset.shape[1]-1)))"
   ]
  },
  {
   "cell_type": "code",
   "execution_count": 10,
   "id": "e261816e",
   "metadata": {
    "execution": {
     "iopub.execute_input": "2023-10-07T15:13:03.062964Z",
     "iopub.status.busy": "2023-10-07T15:13:03.062564Z",
     "iopub.status.idle": "2023-10-07T15:13:03.081608Z",
     "shell.execute_reply": "2023-10-07T15:13:03.080357Z"
    },
    "papermill": {
     "duration": 0.029553,
     "end_time": "2023-10-07T15:13:03.083907",
     "exception": false,
     "start_time": "2023-10-07T15:13:03.054354",
     "status": "completed"
    },
    "tags": []
   },
   "outputs": [
    {
     "name": "stdout",
     "output_type": "stream",
     "text": [
      "No of rows with missing values: 0\n"
     ]
    }
   ],
   "source": [
    "#inspecting missing values\n",
    "print (\"No of rows with missing values: %d\"%(dwell_time_dataset.isna().sum(axis =1)>0).sum())"
   ]
  },
  {
   "cell_type": "code",
   "execution_count": 11,
   "id": "8e41a9c5",
   "metadata": {
    "execution": {
     "iopub.execute_input": "2023-10-07T15:13:03.100034Z",
     "iopub.status.busy": "2023-10-07T15:13:03.099628Z",
     "iopub.status.idle": "2023-10-07T15:13:03.111037Z",
     "shell.execute_reply": "2023-10-07T15:13:03.109212Z"
    },
    "papermill": {
     "duration": 0.023036,
     "end_time": "2023-10-07T15:13:03.113811",
     "exception": false,
     "start_time": "2023-10-07T15:13:03.090775",
     "status": "completed"
    },
    "tags": []
   },
   "outputs": [
    {
     "name": "stdout",
     "output_type": "stream",
     "text": [
      "No of data points in the dataset after removing the rows with missing values : 52748 \n",
      "\n"
     ]
    }
   ],
   "source": [
    "#Drop all the rows with missing values\n",
    "dwell_time_dataset = dwell_time_dataset.dropna()\n",
    "print (\"No of data points in the dataset after removing the rows with missing values : %d \\n\"%(dwell_time_dataset.shape[0]))"
   ]
  },
  {
   "cell_type": "code",
   "execution_count": 12,
   "id": "8aa57d51",
   "metadata": {
    "execution": {
     "iopub.execute_input": "2023-10-07T15:13:03.129756Z",
     "iopub.status.busy": "2023-10-07T15:13:03.129383Z",
     "iopub.status.idle": "2023-10-07T15:13:03.141103Z",
     "shell.execute_reply": "2023-10-07T15:13:03.140022Z"
    },
    "papermill": {
     "duration": 0.022909,
     "end_time": "2023-10-07T15:13:03.143657",
     "exception": false,
     "start_time": "2023-10-07T15:13:03.120748",
     "status": "completed"
    },
    "tags": []
   },
   "outputs": [],
   "source": [
    "# Splitting the dataset for training and testing\n",
    "# In this case we are considering first 36 weeks for training and remaining weeks for testing\n",
    "train_dwell_time = dwell_time_dataset[dwell_time_dataset[\"week_no\"]<=36]\n",
    "test_dwell_time = dwell_time_dataset[dwell_time_dataset[\"week_no\"]>36]\n",
    "test_dwell_time.reset_index(drop=True,inplace=True)"
   ]
  },
  {
   "cell_type": "code",
   "execution_count": 13,
   "id": "eaebc826",
   "metadata": {
    "execution": {
     "iopub.execute_input": "2023-10-07T15:13:03.159347Z",
     "iopub.status.busy": "2023-10-07T15:13:03.158939Z",
     "iopub.status.idle": "2023-10-07T15:13:03.165194Z",
     "shell.execute_reply": "2023-10-07T15:13:03.163839Z"
    },
    "papermill": {
     "duration": 0.017079,
     "end_time": "2023-10-07T15:13:03.167715",
     "exception": false,
     "start_time": "2023-10-07T15:13:03.150636",
     "status": "completed"
    },
    "tags": []
   },
   "outputs": [
    {
     "name": "stdout",
     "output_type": "stream",
     "text": [
      "No of data points in the training set : 44080 \n",
      "No of data points in the test set : 8668\n"
     ]
    }
   ],
   "source": [
    "print (\"No of data points in the training set : %d \\nNo of data points in the test set : %d\"%(train_dwell_time.shape[0],test_dwell_time.shape[0]))"
   ]
  },
  {
   "cell_type": "code",
   "execution_count": 14,
   "id": "0a7ab831",
   "metadata": {
    "execution": {
     "iopub.execute_input": "2023-10-07T15:13:03.184117Z",
     "iopub.status.busy": "2023-10-07T15:13:03.183731Z",
     "iopub.status.idle": "2023-10-07T15:13:03.196032Z",
     "shell.execute_reply": "2023-10-07T15:13:03.194826Z"
    },
    "papermill": {
     "duration": 0.023635,
     "end_time": "2023-10-07T15:13:03.198304",
     "exception": false,
     "start_time": "2023-10-07T15:13:03.174669",
     "status": "completed"
    },
    "tags": []
   },
   "outputs": [],
   "source": [
    "# remove week no\n",
    "train_dwell_time = train_dwell_time.drop(\"week_no\",axis = 1)\n",
    "test_dwell_time = test_dwell_time.drop(\"week_no\",axis = 1)\n"
   ]
  },
  {
   "cell_type": "code",
   "execution_count": 15,
   "id": "4d692332",
   "metadata": {
    "execution": {
     "iopub.execute_input": "2023-10-07T15:13:03.215711Z",
     "iopub.status.busy": "2023-10-07T15:13:03.215317Z",
     "iopub.status.idle": "2023-10-07T15:13:03.222139Z",
     "shell.execute_reply": "2023-10-07T15:13:03.220648Z"
    },
    "papermill": {
     "duration": 0.018303,
     "end_time": "2023-10-07T15:13:03.224648",
     "exception": false,
     "start_time": "2023-10-07T15:13:03.206345",
     "status": "completed"
    },
    "tags": []
   },
   "outputs": [],
   "source": [
    "# Get X and Y of train and test\n",
    "y_train_dwell_time = train_dwell_time.pop('dwell_time_in_seconds')\n",
    "y_test_dwell_time = test_dwell_time.pop('dwell_time_in_seconds')"
   ]
  },
  {
   "cell_type": "code",
   "execution_count": 16,
   "id": "c0568b6a",
   "metadata": {
    "execution": {
     "iopub.execute_input": "2023-10-07T15:13:03.241638Z",
     "iopub.status.busy": "2023-10-07T15:13:03.241278Z",
     "iopub.status.idle": "2023-10-07T15:13:04.405629Z",
     "shell.execute_reply": "2023-10-07T15:13:04.404409Z"
    },
    "papermill": {
     "duration": 1.175975,
     "end_time": "2023-10-07T15:13:04.407905",
     "exception": false,
     "start_time": "2023-10-07T15:13:03.231930",
     "status": "completed"
    },
    "tags": []
   },
   "outputs": [
    {
     "data": {
      "text/plain": [
       "<Axes: >"
      ]
     },
     "execution_count": 16,
     "metadata": {},
     "output_type": "execute_result"
    },
    {
     "data": {
      "image/png": "[encoded data removed]",
      "text/plain": [
       "<Figure size 3000x3000 with 2 Axes>"
      ]
     },
     "metadata": {},
     "output_type": "display_data"
    }
   ],
   "source": [
    "plt.figure(figsize=[30,30])\n",
    "correlation  = train_dwell_time.corr()\n",
    "sns.heatmap(data=correlation, cmap = 'coolwarm')"
   ]
  },
  {
   "cell_type": "code",
   "execution_count": 17,
   "id": "713e16e7",
   "metadata": {
    "execution": {
     "iopub.execute_input": "2023-10-07T15:13:04.426126Z",
     "iopub.status.busy": "2023-10-07T15:13:04.425687Z",
     "iopub.status.idle": "2023-10-07T15:13:04.452283Z",
     "shell.execute_reply": "2023-10-07T15:13:04.451065Z"
    },
    "papermill": {
     "duration": 0.0386,
     "end_time": "2023-10-07T15:13:04.454767",
     "exception": false,
     "start_time": "2023-10-07T15:13:04.416167",
     "status": "completed"
    },
    "tags": []
   },
   "outputs": [],
   "source": [
    "#Scaling\n",
    "scaler = StandardScaler()\n",
    "scaler.fit(train_dwell_time)\n",
    "X_train_scaled = scaler.transform(train_dwell_time)\n",
    "X_test_scaled = scaler.transform(test_dwell_time)"
   ]
  },
  {
   "cell_type": "code",
   "execution_count": 18,
   "id": "e64b8c89",
   "metadata": {
    "execution": {
     "iopub.execute_input": "2023-10-07T15:13:04.474013Z",
     "iopub.status.busy": "2023-10-07T15:13:04.473574Z",
     "iopub.status.idle": "2023-10-07T15:13:04.482804Z",
     "shell.execute_reply": "2023-10-07T15:13:04.480375Z"
    },
    "papermill": {
     "duration": 0.023814,
     "end_time": "2023-10-07T15:13:04.487027",
     "exception": false,
     "start_time": "2023-10-07T15:13:04.463213",
     "status": "completed"
    },
    "tags": []
   },
   "outputs": [],
   "source": [
    "#Hyperparmeter Grid\n",
    "parameters = {\n",
    "    \"max_depth\": [3,4, 6,5],\n",
    "    \"learning_rate\": [0.01, 0.05, 0.1,0.3],\n",
    "    \"n_estimators\": [100,150, 200, 300],\n",
    "    'reg_alpha':[0.001, 0.005, 0.01, 0.05],\n",
    "    \"colsample_bytree\": [0.6,0.8,0.9],\n",
    "    \"random_state\":[123],\n",
    "    \"eval_metric\":['mape']\n",
    "    \n",
    "}"
   ]
  },
  {
   "cell_type": "code",
   "execution_count": 19,
   "id": "85173918",
   "metadata": {
    "execution": {
     "iopub.execute_input": "2023-10-07T15:13:04.516741Z",
     "iopub.status.busy": "2023-10-07T15:13:04.516353Z",
     "iopub.status.idle": "2023-10-07T15:34:21.936876Z",
     "shell.execute_reply": "2023-10-07T15:34:21.935724Z"
    },
    "papermill": {
     "duration": 1277.443558,
     "end_time": "2023-10-07T15:34:21.948003",
     "exception": false,
     "start_time": "2023-10-07T15:13:04.504445",
     "status": "completed"
    },
    "tags": []
   },
   "outputs": [
    {
     "data": {
      "text/html": [
       "<style>#sk-container-id-1 {color: black;background-color: white;}#sk-container-id-1 pre{padding: 0;}#sk-container-id-1 div.sk-toggleable {background-color: white;}#sk-container-id-1 label.sk-toggleable__label {cursor: pointer;display: block;width: 100%;margin-bottom: 0;padding: 0.3em;box-sizing: border-box;text-align: center;}#sk-container-id-1 label.sk-toggleable__label-arrow:before {content: \"▸\";float: left;margin-right: 0.25em;color: #696969;}#sk-container-id-1 label.sk-toggleable__label-arrow:hover:before {color: black;}#sk-container-id-1 div.sk-estimator:hover label.sk-toggleable__label-arrow:before {color: black;}#sk-container-id-1 div.sk-toggleable__content {max-height: 0;max-width: 0;overflow: hidden;text-align: left;background-color: #f0f8ff;}#sk-container-id-1 div.sk-toggleable__content pre {margin: 0.2em;color: black;border-radius: 0.25em;background-color: #f0f8ff;}#sk-container-id-1 input.sk-toggleable__control:checked~div.sk-toggleable__content {max-height: 200px;max-width: 100%;overflow: auto;}#sk-container-id-1 input.sk-toggleable__control:checked~label.sk-toggleable__label-arrow:before {content: \"▾\";}#sk-container-id-1 div.sk-estimator input.sk-toggleable__control:checked~label.sk-toggleable__label {background-color: #d4ebff;}#sk-container-id-1 div.sk-label input.sk-toggleable__control:checked~label.sk-toggleable__label {background-color: #d4ebff;}#sk-container-id-1 input.sk-hidden--visually {border: 0;clip: rect(1px 1px 1px 1px);clip: rect(1px, 1px, 1px, 1px);height: 1px;margin: -1px;overflow: hidden;padding: 0;position: absolute;width: 1px;}#sk-container-id-1 div.sk-estimator {font-family: monospace;background-color: #f0f8ff;border: 1px dotted black;border-radius: 0.25em;box-sizing: border-box;margin-bottom: 0.5em;}#sk-container-id-1 div.sk-estimator:hover {background-color: #d4ebff;}#sk-container-id-1 div.sk-parallel-item::after {content: \"\";width: 100%;border-bottom: 1px solid gray;flex-grow: 1;}#sk-container-id-1 div.sk-label:hover label.sk-toggleable__label {background-color: #d4ebff;}#sk-container-id-1 div.sk-serial::before {content: \"\";position: absolute;border-left: 1px solid gray;box-sizing: border-box;top: 0;bottom: 0;left: 50%;z-index: 0;}#sk-container-id-1 div.sk-serial {display: flex;flex-direction: column;align-items: center;background-color: white;padding-right: 0.2em;padding-left: 0.2em;position: relative;}#sk-container-id-1 div.sk-item {position: relative;z-index: 1;}#sk-container-id-1 div.sk-parallel {display: flex;align-items: stretch;justify-content: center;background-color: white;position: relative;}#sk-container-id-1 div.sk-item::before, #sk-container-id-1 div.sk-parallel-item::before {content: \"\";position: absolute;border-left: 1px solid gray;box-sizing: border-box;top: 0;bottom: 0;left: 50%;z-index: -1;}#sk-container-id-1 div.sk-parallel-item {display: flex;flex-direction: column;z-index: 1;position: relative;background-color: white;}#sk-container-id-1 div.sk-parallel-item:first-child::after {align-self: flex-end;width: 50%;}#sk-container-id-1 div.sk-parallel-item:last-child::after {align-self: flex-start;width: 50%;}#sk-container-id-1 div.sk-parallel-item:only-child::after {width: 0;}#sk-container-id-1 div.sk-dashed-wrapped {border: 1px dashed gray;margin: 0 0.4em 0.5em 0.4em;box-sizing: border-box;padding-bottom: 0.4em;background-color: white;}#sk-container-id-1 div.sk-label label {font-family: monospace;font-weight: bold;display: inline-block;line-height: 1.2em;}#sk-container-id-1 div.sk-label-container {text-align: center;}#sk-container-id-1 div.sk-container {/* jupyter's `normalize.less` sets `[hidden] { display: none; }` but bootstrap.min.css set `[hidden] { display: none !important; }` so we also need the `!important` here to be able to override the default hidden behavior on the sphinx rendered scikit-learn.org. See: https://github.com/scikit-learn/scikit-learn/issues/21755 */display: inline-block !important;position: relative;}#sk-container-id-1 div.sk-text-repr-fallback {display: none;}</style><div id=\"sk-container-id-1\" class=\"sk-top-container\"><div class=\"sk-text-repr-fallback\"><pre>GridSearchCV(cv=TimeSeriesSplit(gap=0, max_train_size=2000, n_splits=6, test_size=100),\n",
       "             estimator=XGBRegressor(base_score=None, booster=None,\n",
       "                                    callbacks=None, colsample_bylevel=None,\n",
       "                                    colsample_bynode=None,\n",
       "                                    colsample_bytree=None,\n",
       "                                    early_stopping_rounds=None,\n",
       "                                    enable_categorical=False, eval_metric=None,\n",
       "                                    feature_types=None, gamma=None, gpu_id=None,\n",
       "                                    grow_policy=None, impo...\n",
       "                                    min_child_weight=None, missing=nan,\n",
       "                                    monotone_constraints=None, n_estimators=100,\n",
       "                                    n_jobs=None, num_parallel_tree=None,\n",
       "                                    predictor=None, random_state=None, ...),\n",
       "             param_grid={&#x27;colsample_bytree&#x27;: [0.6, 0.8, 0.9],\n",
       "                         &#x27;eval_metric&#x27;: [&#x27;mape&#x27;],\n",
       "                         &#x27;learning_rate&#x27;: [0.01, 0.05, 0.1, 0.3],\n",
       "                         &#x27;max_depth&#x27;: [3, 4, 6, 5],\n",
       "                         &#x27;n_estimators&#x27;: [100, 150, 200, 300],\n",
       "                         &#x27;random_state&#x27;: [123],\n",
       "                         &#x27;reg_alpha&#x27;: [0.001, 0.005, 0.01, 0.05]})</pre><b>In a Jupyter environment, please rerun this cell to show the HTML representation or trust the notebook. <br />On GitHub, the HTML representation is unable to render, please try loading this page with nbviewer.org.</b></div><div class=\"sk-container\" hidden><div class=\"sk-item sk-dashed-wrapped\"><div class=\"sk-label-container\"><div class=\"sk-label sk-toggleable\"><input class=\"sk-toggleable__control sk-hidden--visually\" id=\"sk-estimator-id-1\" type=\"checkbox\" ><label for=\"sk-estimator-id-1\" class=\"sk-toggleable__label sk-toggleable__label-arrow\">GridSearchCV</label><div class=\"sk-toggleable__content\"><pre>GridSearchCV(cv=TimeSeriesSplit(gap=0, max_train_size=2000, n_splits=6, test_size=100),\n",
       "             estimator=XGBRegressor(base_score=None, booster=None,\n",
       "                                    callbacks=None, colsample_bylevel=None,\n",
       "                                    colsample_bynode=None,\n",
       "                                    colsample_bytree=None,\n",
       "                                    early_stopping_rounds=None,\n",
       "                                    enable_categorical=False, eval_metric=None,\n",
       "                                    feature_types=None, gamma=None, gpu_id=None,\n",
       "                                    grow_policy=None, impo...\n",
       "                                    min_child_weight=None, missing=nan,\n",
       "                                    monotone_constraints=None, n_estimators=100,\n",
       "                                    n_jobs=None, num_parallel_tree=None,\n",
       "                                    predictor=None, random_state=None, ...),\n",
       "             param_grid={&#x27;colsample_bytree&#x27;: [0.6, 0.8, 0.9],\n",
       "                         &#x27;eval_metric&#x27;: [&#x27;mape&#x27;],\n",
       "                         &#x27;learning_rate&#x27;: [0.01, 0.05, 0.1, 0.3],\n",
       "                         &#x27;max_depth&#x27;: [3, 4, 6, 5],\n",
       "                         &#x27;n_estimators&#x27;: [100, 150, 200, 300],\n",
       "                         &#x27;random_state&#x27;: [123],\n",
       "                         &#x27;reg_alpha&#x27;: [0.001, 0.005, 0.01, 0.05]})</pre></div></div></div><div class=\"sk-parallel\"><div class=\"sk-parallel-item\"><div class=\"sk-item\"><div class=\"sk-label-container\"><div class=\"sk-label sk-toggleable\"><input class=\"sk-toggleable__control sk-hidden--visually\" id=\"sk-estimator-id-2\" type=\"checkbox\" ><label for=\"sk-estimator-id-2\" class=\"sk-toggleable__label sk-toggleable__label-arrow\">estimator: XGBRegressor</label><div class=\"sk-toggleable__content\"><pre>XGBRegressor(base_score=None, booster=None, callbacks=None,\n",
       "             colsample_bylevel=None, colsample_bynode=None,\n",
       "             colsample_bytree=None, early_stopping_rounds=None,\n",
       "             enable_categorical=False, eval_metric=None, feature_types=None,\n",
       "             gamma=None, gpu_id=None, grow_policy=None, importance_type=None,\n",
       "             interaction_constraints=None, learning_rate=None, max_bin=None,\n",
       "             max_cat_threshold=None, max_cat_to_onehot=None,\n",
       "             max_delta_step=None, max_depth=None, max_leaves=None,\n",
       "             min_child_weight=None, missing=nan, monotone_constraints=None,\n",
       "             n_estimators=100, n_jobs=None, num_parallel_tree=None,\n",
       "             predictor=None, random_state=None, ...)</pre></div></div></div><div class=\"sk-serial\"><div class=\"sk-item\"><div class=\"sk-estimator sk-toggleable\"><input class=\"sk-toggleable__control sk-hidden--visually\" id=\"sk-estimator-id-3\" type=\"checkbox\" ><label for=\"sk-estimator-id-3\" class=\"sk-toggleable__label sk-toggleable__label-arrow\">XGBRegressor</label><div class=\"sk-toggleable__content\"><pre>XGBRegressor(base_score=None, booster=None, callbacks=None,\n",
       "             colsample_bylevel=None, colsample_bynode=None,\n",
       "             colsample_bytree=None, early_stopping_rounds=None,\n",
       "             enable_categorical=False, eval_metric=None, feature_types=None,\n",
       "             gamma=None, gpu_id=None, grow_policy=None, importance_type=None,\n",
       "             interaction_constraints=None, learning_rate=None, max_bin=None,\n",
       "             max_cat_threshold=None, max_cat_to_onehot=None,\n",
       "             max_delta_step=None, max_depth=None, max_leaves=None,\n",
       "             min_child_weight=None, missing=nan, monotone_constraints=None,\n",
       "             n_estimators=100, n_jobs=None, num_parallel_tree=None,\n",
       "             predictor=None, random_state=None, ...)</pre></div></div></div></div></div></div></div></div></div></div>"
      ],
      "text/plain": [
       "GridSearchCV(cv=TimeSeriesSplit(gap=0, max_train_size=2000, n_splits=6, test_size=100),\n",
       "             estimator=XGBRegressor(base_score=None, booster=None,\n",
       "                                    callbacks=None, colsample_bylevel=None,\n",
       "                                    colsample_bynode=None,\n",
       "                                    colsample_bytree=None,\n",
       "                                    early_stopping_rounds=None,\n",
       "                                    enable_categorical=False, eval_metric=None,\n",
       "                                    feature_types=None, gamma=None, gpu_id=None,\n",
       "                                    grow_policy=None, impo...\n",
       "                                    min_child_weight=None, missing=nan,\n",
       "                                    monotone_constraints=None, n_estimators=100,\n",
       "                                    n_jobs=None, num_parallel_tree=None,\n",
       "                                    predictor=None, random_state=None, ...),\n",
       "             param_grid={'colsample_bytree': [0.6, 0.8, 0.9],\n",
       "                         'eval_metric': ['mape'],\n",
       "                         'learning_rate': [0.01, 0.05, 0.1, 0.3],\n",
       "                         'max_depth': [3, 4, 6, 5],\n",
       "                         'n_estimators': [100, 150, 200, 300],\n",
       "                         'random_state': [123],\n",
       "                         'reg_alpha': [0.001, 0.005, 0.01, 0.05]})"
      ]
     },
     "execution_count": 19,
     "metadata": {},
     "output_type": "execute_result"
    }
   ],
   "source": [
    "cv_split = TimeSeriesSplit(n_splits=6,max_train_size = 2000, test_size=100)\n",
    "model = xgb.XGBRegressor()\n",
    "grid_search_cv = GridSearchCV(estimator=model, cv=cv_split, param_grid=parameters)\n",
    "grid_search_cv.fit(X_train_scaled, y_train_dwell_time)"
   ]
  },
  {
   "cell_type": "code",
   "execution_count": 20,
   "id": "16d277f9",
   "metadata": {
    "execution": {
     "iopub.execute_input": "2023-10-07T15:34:21.968288Z",
     "iopub.status.busy": "2023-10-07T15:34:21.967492Z",
     "iopub.status.idle": "2023-10-07T15:34:23.826264Z",
     "shell.execute_reply": "2023-10-07T15:34:23.825241Z"
    },
    "papermill": {
     "duration": 1.871903,
     "end_time": "2023-10-07T15:34:23.828781",
     "exception": false,
     "start_time": "2023-10-07T15:34:21.956878",
     "status": "completed"
    },
    "tags": []
   },
   "outputs": [
    {
     "data": {
      "text/html": [
       "<style>#sk-container-id-2 {color: black;background-color: white;}#sk-container-id-2 pre{padding: 0;}#sk-container-id-2 div.sk-toggleable {background-color: white;}#sk-container-id-2 label.sk-toggleable__label {cursor: pointer;display: block;width: 100%;margin-bottom: 0;padding: 0.3em;box-sizing: border-box;text-align: center;}#sk-container-id-2 label.sk-toggleable__label-arrow:before {content: \"▸\";float: left;margin-right: 0.25em;color: #696969;}#sk-container-id-2 label.sk-toggleable__label-arrow:hover:before {color: black;}#sk-container-id-2 div.sk-estimator:hover label.sk-toggleable__label-arrow:before {color: black;}#sk-container-id-2 div.sk-toggleable__content {max-height: 0;max-width: 0;overflow: hidden;text-align: left;background-color: #f0f8ff;}#sk-container-id-2 div.sk-toggleable__content pre {margin: 0.2em;color: black;border-radius: 0.25em;background-color: #f0f8ff;}#sk-container-id-2 input.sk-toggleable__control:checked~div.sk-toggleable__content {max-height: 200px;max-width: 100%;overflow: auto;}#sk-container-id-2 input.sk-toggleable__control:checked~label.sk-toggleable__label-arrow:before {content: \"▾\";}#sk-container-id-2 div.sk-estimator input.sk-toggleable__control:checked~label.sk-toggleable__label {background-color: #d4ebff;}#sk-container-id-2 div.sk-label input.sk-toggleable__control:checked~label.sk-toggleable__label {background-color: #d4ebff;}#sk-container-id-2 input.sk-hidden--visually {border: 0;clip: rect(1px 1px 1px 1px);clip: rect(1px, 1px, 1px, 1px);height: 1px;margin: -1px;overflow: hidden;padding: 0;position: absolute;width: 1px;}#sk-container-id-2 div.sk-estimator {font-family: monospace;background-color: #f0f8ff;border: 1px dotted black;border-radius: 0.25em;box-sizing: border-box;margin-bottom: 0.5em;}#sk-container-id-2 div.sk-estimator:hover {background-color: #d4ebff;}#sk-container-id-2 div.sk-parallel-item::after {content: \"\";width: 100%;border-bottom: 1px solid gray;flex-grow: 1;}#sk-container-id-2 div.sk-label:hover label.sk-toggleable__label {background-color: #d4ebff;}#sk-container-id-2 div.sk-serial::before {content: \"\";position: absolute;border-left: 1px solid gray;box-sizing: border-box;top: 0;bottom: 0;left: 50%;z-index: 0;}#sk-container-id-2 div.sk-serial {display: flex;flex-direction: column;align-items: center;background-color: white;padding-right: 0.2em;padding-left: 0.2em;position: relative;}#sk-container-id-2 div.sk-item {position: relative;z-index: 1;}#sk-container-id-2 div.sk-parallel {display: flex;align-items: stretch;justify-content: center;background-color: white;position: relative;}#sk-container-id-2 div.sk-item::before, #sk-container-id-2 div.sk-parallel-item::before {content: \"\";position: absolute;border-left: 1px solid gray;box-sizing: border-box;top: 0;bottom: 0;left: 50%;z-index: -1;}#sk-container-id-2 div.sk-parallel-item {display: flex;flex-direction: column;z-index: 1;position: relative;background-color: white;}#sk-container-id-2 div.sk-parallel-item:first-child::after {align-self: flex-end;width: 50%;}#sk-container-id-2 div.sk-parallel-item:last-child::after {align-self: flex-start;width: 50%;}#sk-container-id-2 div.sk-parallel-item:only-child::after {width: 0;}#sk-container-id-2 div.sk-dashed-wrapped {border: 1px dashed gray;margin: 0 0.4em 0.5em 0.4em;box-sizing: border-box;padding-bottom: 0.4em;background-color: white;}#sk-container-id-2 div.sk-label label {font-family: monospace;font-weight: bold;display: inline-block;line-height: 1.2em;}#sk-container-id-2 div.sk-label-container {text-align: center;}#sk-container-id-2 div.sk-container {/* jupyter's `normalize.less` sets `[hidden] { display: none; }` but bootstrap.min.css set `[hidden] { display: none !important; }` so we also need the `!important` here to be able to override the default hidden behavior on the sphinx rendered scikit-learn.org. See: https://github.com/scikit-learn/scikit-learn/issues/21755 */display: inline-block !important;position: relative;}#sk-container-id-2 div.sk-text-repr-fallback {display: none;}</style><div id=\"sk-container-id-2\" class=\"sk-top-container\"><div class=\"sk-text-repr-fallback\"><pre>XGBRegressor(base_score=None, booster=None, callbacks=None,\n",
       "             colsample_bylevel=None, colsample_bynode=None,\n",
       "             colsample_bytree=0.6, early_stopping_rounds=None,\n",
       "             enable_categorical=False, eval_metric=&#x27;mape&#x27;, feature_types=None,\n",
       "             gamma=None, gpu_id=None, grow_policy=None, importance_type=None,\n",
       "             interaction_constraints=None, learning_rate=0.01, max_bin=None,\n",
       "             max_cat_threshold=None, max_cat_to_onehot=None,\n",
       "             max_delta_step=None, max_depth=4, max_leaves=None,\n",
       "             min_child_weight=None, missing=nan, monotone_constraints=None,\n",
       "             n_estimators=150, n_jobs=None, num_parallel_tree=None,\n",
       "             predictor=None, random_state=123, ...)</pre><b>In a Jupyter environment, please rerun this cell to show the HTML representation or trust the notebook. <br />On GitHub, the HTML representation is unable to render, please try loading this page with nbviewer.org.</b></div><div class=\"sk-container\" hidden><div class=\"sk-item\"><div class=\"sk-estimator sk-toggleable\"><input class=\"sk-toggleable__control sk-hidden--visually\" id=\"sk-estimator-id-4\" type=\"checkbox\" checked><label for=\"sk-estimator-id-4\" class=\"sk-toggleable__label sk-toggleable__label-arrow\">XGBRegressor</label><div class=\"sk-toggleable__content\"><pre>XGBRegressor(base_score=None, booster=None, callbacks=None,\n",
       "             colsample_bylevel=None, colsample_bynode=None,\n",
       "             colsample_bytree=0.6, early_stopping_rounds=None,\n",
       "             enable_categorical=False, eval_metric=&#x27;mape&#x27;, feature_types=None,\n",
       "             gamma=None, gpu_id=None, grow_policy=None, importance_type=None,\n",
       "             interaction_constraints=None, learning_rate=0.01, max_bin=None,\n",
       "             max_cat_threshold=None, max_cat_to_onehot=None,\n",
       "             max_delta_step=None, max_depth=4, max_leaves=None,\n",
       "             min_child_weight=None, missing=nan, monotone_constraints=None,\n",
       "             n_estimators=150, n_jobs=None, num_parallel_tree=None,\n",
       "             predictor=None, random_state=123, ...)</pre></div></div></div></div></div>"
      ],
      "text/plain": [
       "XGBRegressor(base_score=None, booster=None, callbacks=None,\n",
       "             colsample_bylevel=None, colsample_bynode=None,\n",
       "             colsample_bytree=0.6, early_stopping_rounds=None,\n",
       "             enable_categorical=False, eval_metric='mape', feature_types=None,\n",
       "             gamma=None, gpu_id=None, grow_policy=None, importance_type=None,\n",
       "             interaction_constraints=None, learning_rate=0.01, max_bin=None,\n",
       "             max_cat_threshold=None, max_cat_to_onehot=None,\n",
       "             max_delta_step=None, max_depth=4, max_leaves=None,\n",
       "             min_child_weight=None, missing=nan, monotone_constraints=None,\n",
       "             n_estimators=150, n_jobs=None, num_parallel_tree=None,\n",
       "             predictor=None, random_state=123, ...)"
      ]
     },
     "execution_count": 20,
     "metadata": {},
     "output_type": "execute_result"
    }
   ],
   "source": [
    "dwell_time_model = grid_search_cv.best_estimator_\n",
    "dwell_time_model.fit(X_train_scaled,y_train_dwell_time)"
   ]
  },
  {
   "cell_type": "code",
   "execution_count": 21,
   "id": "d89b1fbc",
   "metadata": {
    "execution": {
     "iopub.execute_input": "2023-10-07T15:34:23.850477Z",
     "iopub.status.busy": "2023-10-07T15:34:23.850079Z",
     "iopub.status.idle": "2023-10-07T15:34:23.864674Z",
     "shell.execute_reply": "2023-10-07T15:34:23.863757Z"
    },
    "papermill": {
     "duration": 0.028329,
     "end_time": "2023-10-07T15:34:23.867683",
     "exception": false,
     "start_time": "2023-10-07T15:34:23.839354",
     "status": "completed"
    },
    "tags": []
   },
   "outputs": [],
   "source": [
    "predictions = dwell_time_model.predict(X_test_scaled)"
   ]
  },
  {
   "cell_type": "code",
   "execution_count": 22,
   "id": "52342a0d",
   "metadata": {
    "execution": {
     "iopub.execute_input": "2023-10-07T15:34:23.890015Z",
     "iopub.status.busy": "2023-10-07T15:34:23.889571Z",
     "iopub.status.idle": "2023-10-07T15:34:23.896728Z",
     "shell.execute_reply": "2023-10-07T15:34:23.895471Z"
    },
    "papermill": {
     "duration": 0.020306,
     "end_time": "2023-10-07T15:34:23.899334",
     "exception": false,
     "start_time": "2023-10-07T15:34:23.879028",
     "status": "completed"
    },
    "tags": []
   },
   "outputs": [
    {
     "data": {
      "text/plain": [
       "array([20.056774 , 12.2414465, 15.188796 , ..., 16.31895  , 14.759433 ,\n",
       "       22.478836 ], dtype=float32)"
      ]
     },
     "execution_count": 22,
     "metadata": {},
     "output_type": "execute_result"
    }
   ],
   "source": [
    "predictions"
   ]
  },
  {
   "cell_type": "markdown",
   "id": "a2c50c93",
   "metadata": {
    "papermill": {
     "duration": 0.009063,
     "end_time": "2023-10-07T15:34:23.918271",
     "exception": false,
     "start_time": "2023-10-07T15:34:23.909208",
     "status": "completed"
    },
    "tags": []
   },
   "source": [
    "#### Model Evaluation"
   ]
  },
  {
   "cell_type": "code",
   "execution_count": 23,
   "id": "add2d43e",
   "metadata": {
    "execution": {
     "iopub.execute_input": "2023-10-07T15:34:23.939553Z",
     "iopub.status.busy": "2023-10-07T15:34:23.939170Z",
     "iopub.status.idle": "2023-10-07T15:34:23.947081Z",
     "shell.execute_reply": "2023-10-07T15:34:23.946031Z"
    },
    "papermill": {
     "duration": 0.021111,
     "end_time": "2023-10-07T15:34:23.949399",
     "exception": false,
     "start_time": "2023-10-07T15:34:23.928288",
     "status": "completed"
    },
    "tags": []
   },
   "outputs": [],
   "source": [
    "mse = metrics.mean_squared_error(y_test_dwell_time,predictions)\n",
    "rmse = np.sqrt(mse)\n",
    "mae = metrics.mean_absolute_error(y_test_dwell_time,predictions)\n",
    "#mape = metrics.mean_absolute_percentage_error(y_test_dwell_time,predictions)\n",
    "r2 = metrics.r2_score(y_test_dwell_time,predictions)"
   ]
  },
  {
   "cell_type": "code",
   "execution_count": 24,
   "id": "5d5352e9",
   "metadata": {
    "execution": {
     "iopub.execute_input": "2023-10-07T15:34:23.969983Z",
     "iopub.status.busy": "2023-10-07T15:34:23.969614Z",
     "iopub.status.idle": "2023-10-07T15:34:23.974543Z",
     "shell.execute_reply": "2023-10-07T15:34:23.973703Z"
    },
    "papermill": {
     "duration": 0.017836,
     "end_time": "2023-10-07T15:34:23.976587",
     "exception": false,
     "start_time": "2023-10-07T15:34:23.958751",
     "status": "completed"
    },
    "tags": []
   },
   "outputs": [
    {
     "name": "stdout",
     "output_type": "stream",
     "text": [
      "Model Evaluation\n",
      "\n",
      "Mean Squared Error\t: 1454.069619\n",
      "Root Mean Squared Error\t: 38.132265\n",
      "Mean Absolute Error\t: 19.756348\n",
      "R-Squared\t: 0.143711\n"
     ]
    }
   ],
   "source": [
    "print (\"Model Evaluation\\n\")\n",
    "print (\"Mean Squared Error\\t: %f\\nRoot Mean Squared Error\\t: %f\\nMean Absolute Error\\t: %f\\nR-Squared\\t: %f\"%(mse,rmse,mae,r2))"
   ]
  },
  {
   "cell_type": "code",
   "execution_count": 25,
   "id": "84c02818",
   "metadata": {
    "execution": {
     "iopub.execute_input": "2023-10-07T15:34:23.997990Z",
     "iopub.status.busy": "2023-10-07T15:34:23.996675Z",
     "iopub.status.idle": "2023-10-07T15:34:24.014473Z",
     "shell.execute_reply": "2023-10-07T15:34:24.013308Z"
    },
    "papermill": {
     "duration": 0.031319,
     "end_time": "2023-10-07T15:34:24.017335",
     "exception": false,
     "start_time": "2023-10-07T15:34:23.986016",
     "status": "completed"
    },
    "tags": []
   },
   "outputs": [],
   "source": [
    "dwell_time_model.save_model('dwell_time_model_version_2.json')"
   ]
  },
  {
   "cell_type": "code",
   "execution_count": 26,
   "id": "4441f20f",
   "metadata": {
    "execution": {
     "iopub.execute_input": "2023-10-07T15:34:24.042278Z",
     "iopub.status.busy": "2023-10-07T15:34:24.041746Z",
     "iopub.status.idle": "2023-10-07T15:34:24.070381Z",
     "shell.execute_reply": "2023-10-07T15:34:24.068800Z"
    },
    "papermill": {
     "duration": 0.043303,
     "end_time": "2023-10-07T15:34:24.073564",
     "exception": false,
     "start_time": "2023-10-07T15:34:24.030261",
     "status": "completed"
    },
    "tags": []
   },
   "outputs": [],
   "source": [
    "predictions_df = pd.DataFrame(predictions,columns = ['predicted_dwell_time'])\n",
    "predictions_df.to_csv('predicted_dwell_times_initial.csv')"
   ]
  },
  {
   "cell_type": "markdown",
   "id": "9024af09",
   "metadata": {
    "papermill": {
     "duration": 0.00922,
     "end_time": "2023-10-07T15:34:24.092465",
     "exception": false,
     "start_time": "2023-10-07T15:34:24.083245",
     "status": "completed"
    },
    "tags": []
   },
   "source": [
    "\n",
    "### Feature Importance Analysis "
   ]
  },
  {
   "cell_type": "code",
   "execution_count": 27,
   "id": "4a7a96dd",
   "metadata": {
    "execution": {
     "iopub.execute_input": "2023-10-07T15:34:24.113933Z",
     "iopub.status.busy": "2023-10-07T15:34:24.113092Z",
     "iopub.status.idle": "2023-10-07T15:34:25.602095Z",
     "shell.execute_reply": "2023-10-07T15:34:25.601228Z"
    },
    "papermill": {
     "duration": 1.502744,
     "end_time": "2023-10-07T15:34:25.604569",
     "exception": false,
     "start_time": "2023-10-07T15:34:24.101825",
     "status": "completed"
    },
    "tags": []
   },
   "outputs": [],
   "source": [
    "x_importance = X_test_scaled\n",
    "explainer = shap.TreeExplainer(dwell_time_model)\n",
    "shap_values = explainer.shap_values(x_importance)"
   ]
  },
  {
   "cell_type": "code",
   "execution_count": 28,
   "id": "636ecb95",
   "metadata": {
    "execution": {
     "iopub.execute_input": "2023-10-07T15:34:25.627583Z",
     "iopub.status.busy": "2023-10-07T15:34:25.627177Z",
     "iopub.status.idle": "2023-10-07T15:34:25.636990Z",
     "shell.execute_reply": "2023-10-07T15:34:25.635754Z"
    },
    "papermill": {
     "duration": 0.023029,
     "end_time": "2023-10-07T15:34:25.639451",
     "exception": false,
     "start_time": "2023-10-07T15:34:25.616422",
     "status": "completed"
    },
    "tags": []
   },
   "outputs": [],
   "source": [
    "shap_data =pd.DataFrame((zip(scaler.get_feature_names_out()[np.argsort(np.abs(shap_values).mean(0))],\n",
    "np.abs(shap_values).mean(0))), columns=[\"feature\", \"importance\" ]).sort_values(by=\"importance\", ascending=True)\n",
    "shap_data.to_csv('shap_running_initial.csv')\n"
   ]
  },
  {
   "cell_type": "code",
   "execution_count": 29,
   "id": "5cbd3d99",
   "metadata": {
    "execution": {
     "iopub.execute_input": "2023-10-07T15:34:25.661798Z",
     "iopub.status.busy": "2023-10-07T15:34:25.661092Z",
     "iopub.status.idle": "2023-10-07T15:34:26.089348Z",
     "shell.execute_reply": "2023-10-07T15:34:26.088095Z"
    },
    "papermill": {
     "duration": 0.442516,
     "end_time": "2023-10-07T15:34:26.092070",
     "exception": false,
     "start_time": "2023-10-07T15:34:25.649554",
     "status": "completed"
    },
    "tags": []
   },
   "outputs": [
    {
     "data": {
      "image/png": "[encoded data removed]",
      "text/plain": [
       "<Figure size 800x830 with 1 Axes>"
      ]
     },
     "metadata": {},
     "output_type": "display_data"
    }
   ],
   "source": [
    "shap.summary_plot(shap_values,x_importance,feature_names=scaler.get_feature_names_out(),color = 'red',plot_type=\"bar\")"
   ]
  }
 ],
 "metadata": {
  "kernelspec": {
   "display_name": "Python 3",
   "language": "python",
   "name": "python3"
  },
  "language_info": {
   "codemirror_mode": {
    "name": "ipython",
    "version": 3
   },
   "file_extension": ".py",
   "mimetype": "text/x-python",
   "name": "python",
   "nbconvert_exporter": "python",
   "pygments_lexer": "ipython3",
   "version": "3.10.12"
  },
  "papermill": {
   "default_parameters": {},
   "duration": 1300.240163,
   "end_time": "2023-10-07T15:34:27.529954",
   "environment_variables": {},
   "exception": null,
   "input_path": "__notebook__.ipynb",
   "output_path": "__notebook__.ipynb",
   "parameters": {},
   "start_time": "2023-10-07T15:12:47.289791",
   "version": "2.4.0"
  }
 },
 "nbformat": 4,
 "nbformat_minor": 5
}
