{
 "cells": [
  {
   "cell_type": "markdown",
   "metadata": {},
   "source": [
    "## Bus Arrival Time Prediction and Real Time Updating \n",
    "##### Group 27\n",
    "\n",
    "##### Dwell Time Classification Model with Points of Interest\n"
   ]
  },
  {
   "cell_type": "code",
   "execution_count": 2,
   "metadata": {},
   "outputs": [
    {
     "name": "stderr",
     "output_type": "stream",
     "text": [
      "IProgress not found. Please update jupyter and ipywidgets. See https://ipywidgets.readthedocs.io/en/stable/user_install.html\n"
     ]
    }
   ],
   "source": [
    "# import libraries\n",
    "\n",
    "import pandas as pd\n",
    "import numpy as np\n",
    "import xgboost as xgb\n",
    "from hyperopt import STATUS_OK, Trials, fmin, hp, tpe\n",
    "from sklearn.model_selection import cross_val_score\n",
    "from sklearn.preprocessing import LabelEncoder\n",
    "from sklearn import metrics\n",
    "import shap\n",
    "import seaborn as sns\n",
    "from matplotlib import pyplot as plt"
   ]
  },
  {
   "cell_type": "code",
   "execution_count": 3,
   "metadata": {},
   "outputs": [],
   "source": [
    "# read the dataset - dwell times\n",
    "stop_time_data = pd.read_csv('../../data/bus_stop_times_poi_data_added.csv')"
   ]
  },
  {
   "cell_type": "code",
   "execution_count": 4,
   "metadata": {},
   "outputs": [
    {
     "data": {
      "text/html": [
       "<div>\n",
       "<style scoped>\n",
       "    .dataframe tbody tr th:only-of-type {\n",
       "        vertical-align: middle;\n",
       "    }\n",
       "\n",
       "    .dataframe tbody tr th {\n",
       "        vertical-align: top;\n",
       "    }\n",
       "\n",
       "    .dataframe thead th {\n",
       "        text-align: right;\n",
       "    }\n",
       "</style>\n",
       "<table border=\"1\" class=\"dataframe\">\n",
       "  <thead>\n",
       "    <tr style=\"text-align: right;\">\n",
       "      <th></th>\n",
       "      <th>Unnamed: 0</th>\n",
       "      <th>trip_id</th>\n",
       "      <th>deviceid</th>\n",
       "      <th>direction</th>\n",
       "      <th>bus_stop</th>\n",
       "      <th>date</th>\n",
       "      <th>arrival_time</th>\n",
       "      <th>departure_time</th>\n",
       "      <th>dwell_time</th>\n",
       "      <th>dwell_time_in_seconds_old</th>\n",
       "      <th>...</th>\n",
       "      <th>stop_type</th>\n",
       "      <th>dwell_time_in_seconds</th>\n",
       "      <th>place_of_worship</th>\n",
       "      <th>place_of_education</th>\n",
       "      <th>healthcare</th>\n",
       "      <th>tourist_attractions</th>\n",
       "      <th>commercial_places</th>\n",
       "      <th>public_places</th>\n",
       "      <th>total_poi_count</th>\n",
       "      <th>average_poi_distance</th>\n",
       "    </tr>\n",
       "  </thead>\n",
       "  <tbody>\n",
       "    <tr>\n",
       "      <th>0</th>\n",
       "      <td>0</td>\n",
       "      <td>1</td>\n",
       "      <td>262</td>\n",
       "      <td>1</td>\n",
       "      <td>101</td>\n",
       "      <td>2021-10-01</td>\n",
       "      <td>06:40:58</td>\n",
       "      <td>06:42:12</td>\n",
       "      <td>0:01:14</td>\n",
       "      <td>74.0</td>\n",
       "      <td>...</td>\n",
       "      <td>pro</td>\n",
       "      <td>74.0</td>\n",
       "      <td>3</td>\n",
       "      <td>1</td>\n",
       "      <td>1</td>\n",
       "      <td>23</td>\n",
       "      <td>1</td>\n",
       "      <td>8</td>\n",
       "      <td>13</td>\n",
       "      <td>0.002210</td>\n",
       "    </tr>\n",
       "    <tr>\n",
       "      <th>1</th>\n",
       "      <td>1</td>\n",
       "      <td>1</td>\n",
       "      <td>262</td>\n",
       "      <td>1</td>\n",
       "      <td>102</td>\n",
       "      <td>2021-10-01</td>\n",
       "      <td>06:45:42</td>\n",
       "      <td>06:45:42</td>\n",
       "      <td>0:00:00</td>\n",
       "      <td>0.0</td>\n",
       "      <td>...</td>\n",
       "      <td>mod</td>\n",
       "      <td>0.0</td>\n",
       "      <td>0</td>\n",
       "      <td>8</td>\n",
       "      <td>1</td>\n",
       "      <td>2</td>\n",
       "      <td>0</td>\n",
       "      <td>1</td>\n",
       "      <td>6</td>\n",
       "      <td>0.002406</td>\n",
       "    </tr>\n",
       "    <tr>\n",
       "      <th>2</th>\n",
       "      <td>2</td>\n",
       "      <td>1</td>\n",
       "      <td>262</td>\n",
       "      <td>1</td>\n",
       "      <td>103</td>\n",
       "      <td>2021-10-01</td>\n",
       "      <td>06:53:58</td>\n",
       "      <td>06:54:04</td>\n",
       "      <td>0:00:06</td>\n",
       "      <td>6.0</td>\n",
       "      <td>...</td>\n",
       "      <td>mod</td>\n",
       "      <td>6.0</td>\n",
       "      <td>4</td>\n",
       "      <td>0</td>\n",
       "      <td>0</td>\n",
       "      <td>2</td>\n",
       "      <td>0</td>\n",
       "      <td>2</td>\n",
       "      <td>5</td>\n",
       "      <td>0.002081</td>\n",
       "    </tr>\n",
       "    <tr>\n",
       "      <th>3</th>\n",
       "      <td>3</td>\n",
       "      <td>1</td>\n",
       "      <td>262</td>\n",
       "      <td>1</td>\n",
       "      <td>104</td>\n",
       "      <td>2021-10-01</td>\n",
       "      <td>06:57:19</td>\n",
       "      <td>06:57:19</td>\n",
       "      <td>0:00:00</td>\n",
       "      <td>0.0</td>\n",
       "      <td>...</td>\n",
       "      <td>br</td>\n",
       "      <td>0.0</td>\n",
       "      <td>2</td>\n",
       "      <td>0</td>\n",
       "      <td>0</td>\n",
       "      <td>1</td>\n",
       "      <td>0</td>\n",
       "      <td>1</td>\n",
       "      <td>3</td>\n",
       "      <td>0.001165</td>\n",
       "    </tr>\n",
       "    <tr>\n",
       "      <th>4</th>\n",
       "      <td>4</td>\n",
       "      <td>1</td>\n",
       "      <td>262</td>\n",
       "      <td>1</td>\n",
       "      <td>105</td>\n",
       "      <td>2021-10-01</td>\n",
       "      <td>06:58:56</td>\n",
       "      <td>07:02:27</td>\n",
       "      <td>0:03:31</td>\n",
       "      <td>211.0</td>\n",
       "      <td>...</td>\n",
       "      <td>pro</td>\n",
       "      <td>211.0</td>\n",
       "      <td>2</td>\n",
       "      <td>1</td>\n",
       "      <td>0</td>\n",
       "      <td>0</td>\n",
       "      <td>0</td>\n",
       "      <td>2</td>\n",
       "      <td>3</td>\n",
       "      <td>0.001913</td>\n",
       "    </tr>\n",
       "  </tbody>\n",
       "</table>\n",
       "<p>5 rows × 42 columns</p>\n",
       "</div>"
      ],
      "text/plain": [
       "   Unnamed: 0  trip_id  deviceid  direction  bus_stop        date  \\\n",
       "0           0        1       262          1       101  2021-10-01   \n",
       "1           1        1       262          1       102  2021-10-01   \n",
       "2           2        1       262          1       103  2021-10-01   \n",
       "3           3        1       262          1       104  2021-10-01   \n",
       "4           4        1       262          1       105  2021-10-01   \n",
       "\n",
       "  arrival_time departure_time dwell_time  dwell_time_in_seconds_old  ...  \\\n",
       "0     06:40:58       06:42:12    0:01:14                       74.0  ...   \n",
       "1     06:45:42       06:45:42    0:00:00                        0.0  ...   \n",
       "2     06:53:58       06:54:04    0:00:06                        6.0  ...   \n",
       "3     06:57:19       06:57:19    0:00:00                        0.0  ...   \n",
       "4     06:58:56       07:02:27    0:03:31                      211.0  ...   \n",
       "\n",
       "   stop_type  dwell_time_in_seconds  place_of_worship  place_of_education  \\\n",
       "0        pro                   74.0                 3                   1   \n",
       "1        mod                    0.0                 0                   8   \n",
       "2        mod                    6.0                 4                   0   \n",
       "3         br                    0.0                 2                   0   \n",
       "4        pro                  211.0                 2                   1   \n",
       "\n",
       "   healthcare  tourist_attractions  commercial_places  public_places  \\\n",
       "0           1                   23                  1              8   \n",
       "1           1                    2                  0              1   \n",
       "2           0                    2                  0              2   \n",
       "3           0                    1                  0              1   \n",
       "4           0                    0                  0              2   \n",
       "\n",
       "   total_poi_count  average_poi_distance  \n",
       "0               13              0.002210  \n",
       "1                6              0.002406  \n",
       "2                5              0.002081  \n",
       "3                3              0.001165  \n",
       "4                3              0.001913  \n",
       "\n",
       "[5 rows x 42 columns]"
      ]
     },
     "execution_count": 4,
     "metadata": {},
     "output_type": "execute_result"
    }
   ],
   "source": [
    "stop_time_data.head()"
   ]
  },
  {
   "cell_type": "code",
   "execution_count": 5,
   "metadata": {},
   "outputs": [
    {
     "data": {
      "text/plain": [
       "Index(['Unnamed: 0', 'trip_id', 'deviceid', 'direction', 'bus_stop', 'date',\n",
       "       'arrival_time', 'departure_time', 'dwell_time',\n",
       "       'dwell_time_in_seconds_old', 'day_of_week', 'time_of_day',\n",
       "       'Sunday/holiday', 'saturday', 'weekday/end', 'week_no', 'dt(w-1)',\n",
       "       'dt(w-2)', 'dt(w-3)', 'dt(t-1)', 'dt(t-2)', 'dt(n-1)', 'dt(n-2)',\n",
       "       'dt(n-3)', 'hour_of_day', 'day', 'month', 'temp', 'precip', 'windspeed',\n",
       "       'conditions', 'rt(n-1)', 'stop_type', 'dwell_time_in_seconds',\n",
       "       'place_of_worship', 'place_of_education', 'healthcare',\n",
       "       'tourist_attractions', 'commercial_places', 'public_places',\n",
       "       'total_poi_count', 'average_poi_distance'],\n",
       "      dtype='object')"
      ]
     },
     "execution_count": 5,
     "metadata": {},
     "output_type": "execute_result"
    }
   ],
   "source": [
    "stop_time_data.columns"
   ]
  },
  {
   "cell_type": "code",
   "execution_count": 6,
   "metadata": {},
   "outputs": [],
   "source": [
    "features = ['deviceid','week_no','day_of_week','time_of_day','Sunday/holiday','weekday/end','bus_stop','precip','temp',\n",
    "            'dt(n-1)','dt(n-2)', 'dt(n-3)','dt(t-1)', 'dt(t-2)', 'dt(w-1)', 'dt(w-2)', 'dt(w-3)', 'rt(n-1)','place_of_worship','place_of_education', 'healthcare', \n",
    "'tourist_attractions', 'commercial_places', 'public_places','total_poi_count', 'average_poi_distance','stop_type']\n",
    "stop_time_dataset = stop_time_data[features]"
   ]
  },
  {
   "cell_type": "markdown",
   "metadata": {},
   "source": [
    "#### Encoding Categorical Target\n"
   ]
  },
  {
   "cell_type": "code",
   "execution_count": 7,
   "metadata": {},
   "outputs": [
    {
     "name": "stderr",
     "output_type": "stream",
     "text": [
      "\n",
      "A value is trying to be set on a copy of a slice from a DataFrame.\n",
      "Try using .loc[row_indexer,col_indexer] = value instead\n",
      "\n",
      "See the caveats in the documentation: https://pandas.pydata.org/pandas-docs/stable/user_guide/indexing.html#returning-a-view-versus-a-copy\n"
     ]
    }
   ],
   "source": [
    "lab = LabelEncoder()\n",
    "stop_time_dataset['stop_type'] = lab.fit_transform(stop_time_dataset['stop_type'])"
   ]
  },
  {
   "cell_type": "code",
   "execution_count": 8,
   "metadata": {},
   "outputs": [
    {
     "data": {
      "text/html": [
       "<div>\n",
       "<style scoped>\n",
       "    .dataframe tbody tr th:only-of-type {\n",
       "        vertical-align: middle;\n",
       "    }\n",
       "\n",
       "    .dataframe tbody tr th {\n",
       "        vertical-align: top;\n",
       "    }\n",
       "\n",
       "    .dataframe thead th {\n",
       "        text-align: right;\n",
       "    }\n",
       "</style>\n",
       "<table border=\"1\" class=\"dataframe\">\n",
       "  <thead>\n",
       "    <tr style=\"text-align: right;\">\n",
       "      <th></th>\n",
       "      <th>deviceid</th>\n",
       "      <th>week_no</th>\n",
       "      <th>day_of_week</th>\n",
       "      <th>time_of_day</th>\n",
       "      <th>Sunday/holiday</th>\n",
       "      <th>weekday/end</th>\n",
       "      <th>bus_stop</th>\n",
       "      <th>precip</th>\n",
       "      <th>temp</th>\n",
       "      <th>dt(n-1)</th>\n",
       "      <th>...</th>\n",
       "      <th>rt(n-1)</th>\n",
       "      <th>place_of_worship</th>\n",
       "      <th>place_of_education</th>\n",
       "      <th>healthcare</th>\n",
       "      <th>tourist_attractions</th>\n",
       "      <th>commercial_places</th>\n",
       "      <th>public_places</th>\n",
       "      <th>total_poi_count</th>\n",
       "      <th>average_poi_distance</th>\n",
       "      <th>stop_type</th>\n",
       "    </tr>\n",
       "  </thead>\n",
       "  <tbody>\n",
       "    <tr>\n",
       "      <th>0</th>\n",
       "      <td>262</td>\n",
       "      <td>1</td>\n",
       "      <td>4</td>\n",
       "      <td>6.50</td>\n",
       "      <td>0</td>\n",
       "      <td>1</td>\n",
       "      <td>101</td>\n",
       "      <td>0.0</td>\n",
       "      <td>20.0</td>\n",
       "      <td>92.0</td>\n",
       "      <td>...</td>\n",
       "      <td>69.0</td>\n",
       "      <td>3</td>\n",
       "      <td>1</td>\n",
       "      <td>1</td>\n",
       "      <td>23</td>\n",
       "      <td>1</td>\n",
       "      <td>8</td>\n",
       "      <td>13</td>\n",
       "      <td>0.002210</td>\n",
       "      <td>2</td>\n",
       "    </tr>\n",
       "    <tr>\n",
       "      <th>1</th>\n",
       "      <td>262</td>\n",
       "      <td>1</td>\n",
       "      <td>4</td>\n",
       "      <td>6.75</td>\n",
       "      <td>0</td>\n",
       "      <td>1</td>\n",
       "      <td>102</td>\n",
       "      <td>0.0</td>\n",
       "      <td>20.0</td>\n",
       "      <td>74.0</td>\n",
       "      <td>...</td>\n",
       "      <td>210.0</td>\n",
       "      <td>0</td>\n",
       "      <td>8</td>\n",
       "      <td>1</td>\n",
       "      <td>2</td>\n",
       "      <td>0</td>\n",
       "      <td>1</td>\n",
       "      <td>6</td>\n",
       "      <td>0.002406</td>\n",
       "      <td>1</td>\n",
       "    </tr>\n",
       "    <tr>\n",
       "      <th>2</th>\n",
       "      <td>262</td>\n",
       "      <td>1</td>\n",
       "      <td>4</td>\n",
       "      <td>6.75</td>\n",
       "      <td>0</td>\n",
       "      <td>1</td>\n",
       "      <td>103</td>\n",
       "      <td>0.0</td>\n",
       "      <td>20.0</td>\n",
       "      <td>0.0</td>\n",
       "      <td>...</td>\n",
       "      <td>496.0</td>\n",
       "      <td>4</td>\n",
       "      <td>0</td>\n",
       "      <td>0</td>\n",
       "      <td>2</td>\n",
       "      <td>0</td>\n",
       "      <td>2</td>\n",
       "      <td>5</td>\n",
       "      <td>0.002081</td>\n",
       "      <td>1</td>\n",
       "    </tr>\n",
       "    <tr>\n",
       "      <th>3</th>\n",
       "      <td>262</td>\n",
       "      <td>1</td>\n",
       "      <td>4</td>\n",
       "      <td>6.75</td>\n",
       "      <td>0</td>\n",
       "      <td>1</td>\n",
       "      <td>104</td>\n",
       "      <td>0.0</td>\n",
       "      <td>20.0</td>\n",
       "      <td>6.0</td>\n",
       "      <td>...</td>\n",
       "      <td>195.0</td>\n",
       "      <td>2</td>\n",
       "      <td>0</td>\n",
       "      <td>0</td>\n",
       "      <td>1</td>\n",
       "      <td>0</td>\n",
       "      <td>1</td>\n",
       "      <td>3</td>\n",
       "      <td>0.001165</td>\n",
       "      <td>0</td>\n",
       "    </tr>\n",
       "    <tr>\n",
       "      <th>4</th>\n",
       "      <td>262</td>\n",
       "      <td>1</td>\n",
       "      <td>4</td>\n",
       "      <td>6.75</td>\n",
       "      <td>0</td>\n",
       "      <td>1</td>\n",
       "      <td>105</td>\n",
       "      <td>0.0</td>\n",
       "      <td>20.0</td>\n",
       "      <td>0.0</td>\n",
       "      <td>...</td>\n",
       "      <td>97.0</td>\n",
       "      <td>2</td>\n",
       "      <td>1</td>\n",
       "      <td>0</td>\n",
       "      <td>0</td>\n",
       "      <td>0</td>\n",
       "      <td>2</td>\n",
       "      <td>3</td>\n",
       "      <td>0.001913</td>\n",
       "      <td>2</td>\n",
       "    </tr>\n",
       "  </tbody>\n",
       "</table>\n",
       "<p>5 rows × 27 columns</p>\n",
       "</div>"
      ],
      "text/plain": [
       "   deviceid  week_no  day_of_week  time_of_day  Sunday/holiday  weekday/end  \\\n",
       "0       262        1            4         6.50               0            1   \n",
       "1       262        1            4         6.75               0            1   \n",
       "2       262        1            4         6.75               0            1   \n",
       "3       262        1            4         6.75               0            1   \n",
       "4       262        1            4         6.75               0            1   \n",
       "\n",
       "   bus_stop  precip  temp  dt(n-1)  ...  rt(n-1)  place_of_worship  \\\n",
       "0       101     0.0  20.0     92.0  ...     69.0                 3   \n",
       "1       102     0.0  20.0     74.0  ...    210.0                 0   \n",
       "2       103     0.0  20.0      0.0  ...    496.0                 4   \n",
       "3       104     0.0  20.0      6.0  ...    195.0                 2   \n",
       "4       105     0.0  20.0      0.0  ...     97.0                 2   \n",
       "\n",
       "   place_of_education  healthcare  tourist_attractions  commercial_places  \\\n",
       "0                   1           1                   23                  1   \n",
       "1                   8           1                    2                  0   \n",
       "2                   0           0                    2                  0   \n",
       "3                   0           0                    1                  0   \n",
       "4                   1           0                    0                  0   \n",
       "\n",
       "   public_places  total_poi_count  average_poi_distance  stop_type  \n",
       "0              8               13              0.002210          2  \n",
       "1              1                6              0.002406          1  \n",
       "2              2                5              0.002081          1  \n",
       "3              1                3              0.001165          0  \n",
       "4              2                3              0.001913          2  \n",
       "\n",
       "[5 rows x 27 columns]"
      ]
     },
     "execution_count": 8,
     "metadata": {},
     "output_type": "execute_result"
    }
   ],
   "source": [
    "stop_time_dataset.head()"
   ]
  },
  {
   "cell_type": "code",
   "execution_count": 9,
   "metadata": {},
   "outputs": [
    {
     "name": "stdout",
     "output_type": "stream",
     "text": [
      "No of data points in the dataset : 91683 \n",
      "No of Features\t: 26\n"
     ]
    }
   ],
   "source": [
    "print (\"No of data points in the dataset : %d \\nNo of Features\\t: %d\"%(stop_time_dataset.shape[0],(stop_time_dataset.shape[1]-1)))"
   ]
  },
  {
   "cell_type": "code",
   "execution_count": 10,
   "metadata": {},
   "outputs": [
    {
     "data": {
      "text/plain": [
       "deviceid                0\n",
       "week_no                 0\n",
       "day_of_week             0\n",
       "time_of_day             0\n",
       "Sunday/holiday          0\n",
       "weekday/end             0\n",
       "bus_stop                0\n",
       "precip                  0\n",
       "temp                    0\n",
       "dt(n-1)                 0\n",
       "dt(n-2)                 0\n",
       "dt(n-3)                 0\n",
       "dt(t-1)                 0\n",
       "dt(t-2)                 0\n",
       "dt(w-1)                 0\n",
       "dt(w-2)                 0\n",
       "dt(w-3)                 0\n",
       "rt(n-1)                 0\n",
       "place_of_worship        0\n",
       "place_of_education      0\n",
       "healthcare              0\n",
       "tourist_attractions     0\n",
       "commercial_places       0\n",
       "public_places           0\n",
       "total_poi_count         0\n",
       "average_poi_distance    0\n",
       "stop_type               0\n",
       "dtype: int64"
      ]
     },
     "execution_count": 10,
     "metadata": {},
     "output_type": "execute_result"
    }
   ],
   "source": [
    "#Missing values\n",
    "stop_time_dataset.isna().sum()"
   ]
  },
  {
   "cell_type": "code",
   "execution_count": 11,
   "metadata": {},
   "outputs": [],
   "source": [
    "# Splitting the dataset for training and testing\n",
    "# In this case we are considering first 36 weeks for training and remaining weeks for testing\n",
    "train_stop_time_class= stop_time_dataset[stop_time_dataset[\"week_no\"]<=36]\n",
    "test_stop_time_class = stop_time_dataset[stop_time_dataset[\"week_no\"]>36]"
   ]
  },
  {
   "cell_type": "code",
   "execution_count": 12,
   "metadata": {},
   "outputs": [
    {
     "name": "stdout",
     "output_type": "stream",
     "text": [
      "No of data points in the training set : 76601 \n",
      "No of data points in the test set : 15082\n"
     ]
    }
   ],
   "source": [
    "print (\"No of data points in the training set : %d \\nNo of data points in the test set : %d\"%(train_stop_time_class.shape[0],test_stop_time_class.shape[0]))"
   ]
  },
  {
   "cell_type": "code",
   "execution_count": 13,
   "metadata": {},
   "outputs": [],
   "source": [
    "test_stop_time_class.reset_index(drop=True,inplace=True)"
   ]
  },
  {
   "cell_type": "code",
   "execution_count": 14,
   "metadata": {},
   "outputs": [],
   "source": [
    "# remove week no\n",
    "train_stop_time_class = train_stop_time_class.drop(\"week_no\",axis = 1)\n",
    "test_stop_time_class = test_stop_time_class.drop(\"week_no\",axis = 1)"
   ]
  },
  {
   "cell_type": "code",
   "execution_count": 15,
   "metadata": {},
   "outputs": [],
   "source": [
    "# Get X and Y of train and test\n",
    "y_train_stop_time_class = train_stop_time_class.pop('stop_type')\n",
    "y_test_stop_time_class = test_stop_time_class.pop('stop_type')"
   ]
  },
  {
   "cell_type": "code",
   "execution_count": 16,
   "metadata": {},
   "outputs": [],
   "source": [
    "test_stop_time_class.to_csv('../../data/dwell_time_classification_test_data.csv')"
   ]
  },
  {
   "cell_type": "markdown",
   "metadata": {},
   "source": [
    "#### Hyperparameter Tuning using Bayesian Otimization with Hyperopt\n"
   ]
  },
  {
   "cell_type": "code",
   "execution_count": 15,
   "metadata": {},
   "outputs": [],
   "source": [
    "#1. Initilize the domin space for the hyperparameters\n",
    "space={'max_depth': hp.quniform(\"max_depth\", 3, 10, 1),\n",
    "        'learning_rate' : hp.uniform('learning_rate',0.01,0.3),\n",
    "        'gamma': hp.uniform ('gamma', 1,9),\n",
    "        'reg_alpha' : hp.quniform('reg_alpha', 40,180,1),\n",
    "        'reg_lambda' : hp.uniform('reg_lambda', 0,1),\n",
    "        'colsample_bytree' : hp.uniform('colsample_bytree', 0.5,1),\n",
    "        'subsample': hp.uniform('subsample',0.5,1),\n",
    "        'min_child_weight' : hp.quniform('min_child_weight', 0, 10, 1),\n",
    "        'n_estimators': hp.quniform('n_estimators',80,100,1),\n",
    "        'random_state': 24,\n",
    "        'objective': 'multi:softmax'\n",
    "    }"
   ]
  },
  {
   "cell_type": "code",
   "execution_count": 16,
   "metadata": {},
   "outputs": [],
   "source": [
    "#2. Specify the objective function\n",
    "def objective (space):\n",
    "    bst = xgb.XGBClassifier(\n",
    "        booster = \"gbtree\",\n",
    "        learning_rate = space['learning_rate'],\n",
    "        max_depth = int(space['max_depth']),\n",
    "        gamma = space['gamma'],\n",
    "        reg_alpha = int(space['reg_alpha']),\n",
    "        reg_lambda = space['reg_lambda'],\n",
    "        colsample_bytree = space['colsample_bytree'],\n",
    "        subsample = space['subsample'],\n",
    "        min_child_weight = int(space ['min_child_weight']),\n",
    "        n_estimators = int(space['n_estimators']),\n",
    "        random_state = space['random_state'],\n",
    "        objective = space['objective']\n",
    "        \n",
    "    )\n",
    "    score = cross_val_score(bst, train_stop_time_class, y_train_stop_time_class, cv=8).mean()\n",
    "    return {'loss': -score, 'status': STATUS_OK}"
   ]
  },
  {
   "cell_type": "code",
   "execution_count": 17,
   "metadata": {},
   "outputs": [
    {
     "name": "stdout",
     "output_type": "stream",
     "text": [
      "100%|██████████| 75/75 [40:05<00:00, 32.07s/trial, best loss: -1.0]\n"
     ]
    }
   ],
   "source": [
    "#3. Otimization Algorithm\n",
    "trials = Trials()\n",
    "\n",
    "best_hyperparams = fmin(fn = objective,\n",
    "                        space = space,\n",
    "                        algo = tpe.suggest,\n",
    "                        max_evals = 75,\n",
    "                        trials = trials)\n"
   ]
  },
  {
   "cell_type": "code",
   "execution_count": 18,
   "metadata": {},
   "outputs": [
    {
     "name": "stdout",
     "output_type": "stream",
     "text": [
      "The best hyperparameters are :  \n",
      "\n",
      "{'colsample_bytree': 0.8086714553728507, 'gamma': 1.129966545693648, 'learning_rate': 0.05489436730646292, 'max_depth': 7.0, 'min_child_weight': 6.0, 'n_estimators': 98.0, 'reg_alpha': 58.0, 'reg_lambda': 0.6354995507377076, 'subsample': 0.8205032373542065}\n"
     ]
    }
   ],
   "source": [
    "print(\"The best hyperparameters are : \",\"\\n\")\n",
    "print(best_hyperparams)"
   ]
  },
  {
   "cell_type": "code",
   "execution_count": 19,
   "metadata": {},
   "outputs": [],
   "source": [
    "classifier = xgb.XGBClassifier(\n",
    "    booster = \"gbtree\",\n",
    "        learning_rate = best_hyperparams['learning_rate'],\n",
    "        max_depth = int(best_hyperparams['max_depth']),\n",
    "        gamma = best_hyperparams['gamma'],\n",
    "        reg_alpha = int(best_hyperparams['reg_alpha']),\n",
    "        reg_lambda = best_hyperparams['reg_lambda'],\n",
    "        colsample_bytree = best_hyperparams['colsample_bytree'],\n",
    "        subsample = best_hyperparams['subsample'],\n",
    "        min_child_weight = int(best_hyperparams ['min_child_weight']),\n",
    "        n_estimators = int(best_hyperparams['n_estimators']),\n",
    "        random_state = int(space['random_state']),\n",
    "        objective = space['objective']\n",
    ")\n"
   ]
  },
  {
   "cell_type": "code",
   "execution_count": 20,
   "metadata": {},
   "outputs": [
    {
     "data": {
      "text/html": [
       "<style>#sk-container-id-1 {color: black;background-color: white;}#sk-container-id-1 pre{padding: 0;}#sk-container-id-1 div.sk-toggleable {background-color: white;}#sk-container-id-1 label.sk-toggleable__label {cursor: pointer;display: block;width: 100%;margin-bottom: 0;padding: 0.3em;box-sizing: border-box;text-align: center;}#sk-container-id-1 label.sk-toggleable__label-arrow:before {content: \"▸\";float: left;margin-right: 0.25em;color: #696969;}#sk-container-id-1 label.sk-toggleable__label-arrow:hover:before {color: black;}#sk-container-id-1 div.sk-estimator:hover label.sk-toggleable__label-arrow:before {color: black;}#sk-container-id-1 div.sk-toggleable__content {max-height: 0;max-width: 0;overflow: hidden;text-align: left;background-color: #f0f8ff;}#sk-container-id-1 div.sk-toggleable__content pre {margin: 0.2em;color: black;border-radius: 0.25em;background-color: #f0f8ff;}#sk-container-id-1 input.sk-toggleable__control:checked~div.sk-toggleable__content {max-height: 200px;max-width: 100%;overflow: auto;}#sk-container-id-1 input.sk-toggleable__control:checked~label.sk-toggleable__label-arrow:before {content: \"▾\";}#sk-container-id-1 div.sk-estimator input.sk-toggleable__control:checked~label.sk-toggleable__label {background-color: #d4ebff;}#sk-container-id-1 div.sk-label input.sk-toggleable__control:checked~label.sk-toggleable__label {background-color: #d4ebff;}#sk-container-id-1 input.sk-hidden--visually {border: 0;clip: rect(1px 1px 1px 1px);clip: rect(1px, 1px, 1px, 1px);height: 1px;margin: -1px;overflow: hidden;padding: 0;position: absolute;width: 1px;}#sk-container-id-1 div.sk-estimator {font-family: monospace;background-color: #f0f8ff;border: 1px dotted black;border-radius: 0.25em;box-sizing: border-box;margin-bottom: 0.5em;}#sk-container-id-1 div.sk-estimator:hover {background-color: #d4ebff;}#sk-container-id-1 div.sk-parallel-item::after {content: \"\";width: 100%;border-bottom: 1px solid gray;flex-grow: 1;}#sk-container-id-1 div.sk-label:hover label.sk-toggleable__label {background-color: #d4ebff;}#sk-container-id-1 div.sk-serial::before {content: \"\";position: absolute;border-left: 1px solid gray;box-sizing: border-box;top: 0;bottom: 0;left: 50%;z-index: 0;}#sk-container-id-1 div.sk-serial {display: flex;flex-direction: column;align-items: center;background-color: white;padding-right: 0.2em;padding-left: 0.2em;position: relative;}#sk-container-id-1 div.sk-item {position: relative;z-index: 1;}#sk-container-id-1 div.sk-parallel {display: flex;align-items: stretch;justify-content: center;background-color: white;position: relative;}#sk-container-id-1 div.sk-item::before, #sk-container-id-1 div.sk-parallel-item::before {content: \"\";position: absolute;border-left: 1px solid gray;box-sizing: border-box;top: 0;bottom: 0;left: 50%;z-index: -1;}#sk-container-id-1 div.sk-parallel-item {display: flex;flex-direction: column;z-index: 1;position: relative;background-color: white;}#sk-container-id-1 div.sk-parallel-item:first-child::after {align-self: flex-end;width: 50%;}#sk-container-id-1 div.sk-parallel-item:last-child::after {align-self: flex-start;width: 50%;}#sk-container-id-1 div.sk-parallel-item:only-child::after {width: 0;}#sk-container-id-1 div.sk-dashed-wrapped {border: 1px dashed gray;margin: 0 0.4em 0.5em 0.4em;box-sizing: border-box;padding-bottom: 0.4em;background-color: white;}#sk-container-id-1 div.sk-label label {font-family: monospace;font-weight: bold;display: inline-block;line-height: 1.2em;}#sk-container-id-1 div.sk-label-container {text-align: center;}#sk-container-id-1 div.sk-container {/* jupyter's `normalize.less` sets `[hidden] { display: none; }` but bootstrap.min.css set `[hidden] { display: none !important; }` so we also need the `!important` here to be able to override the default hidden behavior on the sphinx rendered scikit-learn.org. See: https://github.com/scikit-learn/scikit-learn/issues/21755 */display: inline-block !important;position: relative;}#sk-container-id-1 div.sk-text-repr-fallback {display: none;}</style><div id=\"sk-container-id-1\" class=\"sk-top-container\"><div class=\"sk-text-repr-fallback\"><pre>XGBClassifier(base_score=None, booster=&#x27;gbtree&#x27;, callbacks=None,\n",
       "              colsample_bylevel=None, colsample_bynode=None,\n",
       "              colsample_bytree=0.8086714553728507, early_stopping_rounds=None,\n",
       "              enable_categorical=False, eval_metric=None, feature_types=None,\n",
       "              gamma=1.129966545693648, gpu_id=None, grow_policy=None,\n",
       "              importance_type=None, interaction_constraints=None,\n",
       "              learning_rate=0.05489436730646292, max_bin=None,\n",
       "              max_cat_threshold=None, max_cat_to_onehot=None,\n",
       "              max_delta_step=None, max_depth=7, max_leaves=None,\n",
       "              min_child_weight=6, missing=nan, monotone_constraints=None,\n",
       "              n_estimators=98, n_jobs=None, num_parallel_tree=None,\n",
       "              objective=&#x27;multi:softmax&#x27;, predictor=None, ...)</pre><b>In a Jupyter environment, please rerun this cell to show the HTML representation or trust the notebook. <br />On GitHub, the HTML representation is unable to render, please try loading this page with nbviewer.org.</b></div><div class=\"sk-container\" hidden><div class=\"sk-item\"><div class=\"sk-estimator sk-toggleable\"><input class=\"sk-toggleable__control sk-hidden--visually\" id=\"sk-estimator-id-1\" type=\"checkbox\" checked><label for=\"sk-estimator-id-1\" class=\"sk-toggleable__label sk-toggleable__label-arrow\">XGBClassifier</label><div class=\"sk-toggleable__content\"><pre>XGBClassifier(base_score=None, booster=&#x27;gbtree&#x27;, callbacks=None,\n",
       "              colsample_bylevel=None, colsample_bynode=None,\n",
       "              colsample_bytree=0.8086714553728507, early_stopping_rounds=None,\n",
       "              enable_categorical=False, eval_metric=None, feature_types=None,\n",
       "              gamma=1.129966545693648, gpu_id=None, grow_policy=None,\n",
       "              importance_type=None, interaction_constraints=None,\n",
       "              learning_rate=0.05489436730646292, max_bin=None,\n",
       "              max_cat_threshold=None, max_cat_to_onehot=None,\n",
       "              max_delta_step=None, max_depth=7, max_leaves=None,\n",
       "              min_child_weight=6, missing=nan, monotone_constraints=None,\n",
       "              n_estimators=98, n_jobs=None, num_parallel_tree=None,\n",
       "              objective=&#x27;multi:softmax&#x27;, predictor=None, ...)</pre></div></div></div></div></div>"
      ],
      "text/plain": [
       "XGBClassifier(base_score=None, booster='gbtree', callbacks=None,\n",
       "              colsample_bylevel=None, colsample_bynode=None,\n",
       "              colsample_bytree=0.8086714553728507, early_stopping_rounds=None,\n",
       "              enable_categorical=False, eval_metric=None, feature_types=None,\n",
       "              gamma=1.129966545693648, gpu_id=None, grow_policy=None,\n",
       "              importance_type=None, interaction_constraints=None,\n",
       "              learning_rate=0.05489436730646292, max_bin=None,\n",
       "              max_cat_threshold=None, max_cat_to_onehot=None,\n",
       "              max_delta_step=None, max_depth=7, max_leaves=None,\n",
       "              min_child_weight=6, missing=nan, monotone_constraints=None,\n",
       "              n_estimators=98, n_jobs=None, num_parallel_tree=None,\n",
       "              objective='multi:softmax', predictor=None, ...)"
      ]
     },
     "execution_count": 20,
     "metadata": {},
     "output_type": "execute_result"
    }
   ],
   "source": [
    "classifier.fit(train_stop_time_class,y_train_stop_time_class)"
   ]
  },
  {
   "cell_type": "code",
   "execution_count": 21,
   "metadata": {},
   "outputs": [],
   "source": [
    "predictions = classifier.predict(test_stop_time_class)"
   ]
  },
  {
   "cell_type": "markdown",
   "metadata": {},
   "source": [
    "#### Model Evaluation"
   ]
  },
  {
   "cell_type": "code",
   "execution_count": 22,
   "metadata": {},
   "outputs": [
    {
     "name": "stdout",
     "output_type": "stream",
     "text": [
      "              precision    recall  f1-score   support\n",
      "\n",
      "          br       1.00      1.00      1.00      6414\n",
      "         mod       1.00      1.00      1.00      5406\n",
      "         pro       1.00      1.00      1.00      3262\n",
      "\n",
      "    accuracy                           1.00     15082\n",
      "   macro avg       1.00      1.00      1.00     15082\n",
      "weighted avg       1.00      1.00      1.00     15082\n",
      "\n"
     ]
    }
   ],
   "source": [
    "report = metrics.classification_report(y_test_stop_time_class,predictions,labels=[0,1,2],target_names=['br','mod','pro'])\n",
    "print(report)"
   ]
  },
  {
   "cell_type": "code",
   "execution_count": 23,
   "metadata": {},
   "outputs": [],
   "source": [
    "cf_matrix = metrics.confusion_matrix(y_test_stop_time_class,predictions)"
   ]
  },
  {
   "cell_type": "code",
   "execution_count": 24,
   "metadata": {},
   "outputs": [
    {
     "data": {
      "text/plain": [
       "<Axes: >"
      ]
     },
     "execution_count": 24,
     "metadata": {},
     "output_type": "execute_result"
    },
    {
     "data": {
      "image/png": "[encoded data removed]",
      "text/plain": [
       "<Figure size 640x480 with 2 Axes>"
      ]
     },
     "metadata": {},
     "output_type": "display_data"
    }
   ],
   "source": [
    "sns.heatmap(cf_matrix,annot=True)"
   ]
  },
  {
   "cell_type": "code",
   "execution_count": 25,
   "metadata": {},
   "outputs": [],
   "source": [
    "classifier.save_model('../../models/stop_type_classifier_model_with_POI.json')"
   ]
  },
  {
   "cell_type": "markdown",
   "metadata": {},
   "source": [
    "#### Feature Importance Analysis"
   ]
  },
  {
   "cell_type": "code",
   "execution_count": 26,
   "metadata": {},
   "outputs": [],
   "source": [
    "x_importance = test_stop_time_class\n",
    "explainer = shap.TreeExplainer(classifier)\n",
    "shap_values = explainer.shap_values(x_importance)"
   ]
  },
  {
   "cell_type": "code",
   "execution_count": 27,
   "metadata": {},
   "outputs": [
    {
     "data": {
      "image/png": "[encoded data removed]",
      "text/plain": [
       "<Figure size 800x950 with 1 Axes>"
      ]
     },
     "metadata": {},
     "output_type": "display_data"
    }
   ],
   "source": [
    "shap.summary_plot(shap_values,x_importance,plot_type=\"bar\")"
   ]
  }
 ],
 "metadata": {
  "kernelspec": {
   "display_name": "Python 3",
   "language": "python",
   "name": "python3"
  },
  "language_info": {
   "codemirror_mode": {
    "name": "ipython",
    "version": 3
   },
   "file_extension": ".py",
   "mimetype": "text/x-python",
   "name": "python",
   "nbconvert_exporter": "python",
   "pygments_lexer": "ipython3",
   "version": "3.11.2"
  },
  "orig_nbformat": 4
 },
 "nbformat": 4,
 "nbformat_minor": 2
}
